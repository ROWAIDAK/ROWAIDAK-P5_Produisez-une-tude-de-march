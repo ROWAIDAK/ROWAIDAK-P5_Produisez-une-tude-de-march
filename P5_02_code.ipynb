{
 "cells": [
  {
   "cell_type": "markdown",
   "id": "e76b6e87",
   "metadata": {},
   "source": [
    "# Produisez une étude de marché"
   ]
  },
  {
   "cell_type": "markdown",
   "id": "1510abd3",
   "metadata": {},
   "source": [
    "# Scénario\n",
    "Votre entreprise **d'agroalimentaire** souhaite se développer à l'international. Elle est spécialisée dans...\n",
    " le poulet !\n",
    "\n",
    "L'international, oui, mais pour l'instant, le champ des possibles est bien large : aucun pays particulier ni aucun continent n'est pour le moment choisi. Tous les pays sont envisageables !\n",
    "\n",
    "Votre objectif sera d'aider **à cibler plus particulièrement certains pays**, dans le but d'approfondir ensuite l'étude de marché. Plus particulièrement, l'idéal serait de produire des \"groupes\" de pays, plus ou moins gros, dont on connaît les caractéristiques.\n",
    "\n",
    "Dans un premier temps, la stratégie est plutôt d'exporter les produits plutôt que de produire sur place, c'est-à-dire dans le(s) nouveau(x) pays ciblé(s)."
   ]
  },
  {
   "cell_type": "markdown",
   "id": "1e1a2b21",
   "metadata": {},
   "source": [
    "\n",
    "Pour identifier les pays propices à une insertion dans le marché du poulet,\n",
    " Il vous a été demandé de cibler les pays. \n",
    " Etudier les régimes alimentaires de chaque pays, notamment en termes de protéines d'origine animale et en termes de calories.\n",
    "\n",
    "\n",
    "Construisez votre échantillon contenant l'ensemble des pays disponibles, chacun caractérisé par ces variables :\n",
    "\n",
    "différence de population entre une année antérieure (au choix) et l'année courante, exprimée en pourcentage ;\n",
    "proportion de protéines d'origine animale par rapport à la quantité totale de protéines dans la disponibilité alimentaire du pays ;\n",
    "disponibilité alimentaire en protéines par habitant ;\n",
    "disponibilité alimentaire en calories par habitant.\n",
    "\n",
    "Construisez un dendrogramme contenant l'ensemble des pays étudiés, puis coupez-le afin d'obtenir 5 groupes.\n",
    "\n",
    "Caractérisez chacun de ces groupes selon les variables cités précédemment, et facultativement selon d'autres variables que vous jugerez pertinentes (ex : le PIB par habitant). Vous pouvez le faire en calculant la position des centroïdes de chacun des groupes, puis en les commentant et en les critiquant au vu de vos objectifs.\n",
    "\n",
    "Donnez une courte liste de pays à cibler, en présentant leurs caractéristiques. Un découpage plus précis qu'en 5 groupes peut si besoin être effectué pour cibler un nombre raisonnable de pays. \n",
    "\n",
    "Visualisez vos  partitions dans le premier plan factoriel obtenu par ACP.\n",
    "\n",
    "Dans votre partition, vous avez obtenu des groupes distincts. Vérifiez donc qu'ils diffèrent réellement. Pour cela, réalisez les tests statistiques suivants :\n",
    "\n",
    "un test d'adéquation : parmi les 4 variables, ou parmi d'autres variables que vous trouverez pertinentes, trouvez une variable dont la loi est normale ;\n",
    "un test de comparaison de deux populations (dans le cas gaussien) : choisissez 2 clusters parmi ceux que vous aurez déterminé. Sur ces 2 clusters, testez la variable gaussienne grâce à un test de comparaison."
   ]
  },
  {
   "cell_type": "code",
   "execution_count": null,
   "id": "7d07fded",
   "metadata": {},
   "outputs": [],
   "source": [
    "# Librairies\n",
    "import numpy as np\n",
    "import pandas as pd\n",
    "import matplotlib.pyplot as plt\n",
    "from matplotlib.colors import ListedColormap\n",
    "import seaborn as sns\n",
    "import sklearn as sk\n",
    "import scipy as sp\n",
    "import pca as pca\n",
    "from sklearn import cluster\n",
    "from sklearn.cluster import KMeans\n",
    "\n"
   ]
  },
  {
   "cell_type": "code",
   "execution_count": null,
   "id": "b438e077",
   "metadata": {},
   "outputs": [],
   "source": [
    "#Versions utilisées\n",
    "print(\"Jupyter Notebook : \" + str(pd.__version__))\n",
    "print(\"Pandas : \" + str(pd.__version__))\n",
    "print(\"Numpy : \" + str(np.__version__))\n",
    "print(\"Seaborn : \" + str(sns.__version__))"
   ]
  },
  {
   "cell_type": "code",
   "execution_count": null,
   "id": "6ceca7e5",
   "metadata": {},
   "outputs": [],
   "source": [
    "sns.set( # Styles Seaborn\n",
    "    style='whitegrid',\n",
    "    context='notebook',\n",
    "    palette='Paired',\n",
    "    rc={'figure.figsize':(8,5)})"
   ]
  },
  {
   "cell_type": "code",
   "execution_count": null,
   "id": "0ef0bb41",
   "metadata": {},
   "outputs": [],
   "source": [
    "# Couleurs\n",
    "red_a400 = '#ff1744'\n",
    "indigo_a100 = '#8c9eff'\n",
    "indigo_a400 = '#3d5afe'\n",
    "indigo_a700 = '#304ffe'\n",
    "bluegrey_900 = '#263238'\n",
    "teal_a400 = '#1de9b6'\n",
    "purple_a400 = '#d500f9'\n",
    "yellow_a400 = '#ffea00'\n",
    "bluegrey_900 = '#263238'\n",
    "palette_5 = [teal_a400, indigo_a400, red_a400, yellow_a400, purple_a400]"
   ]
  },
  {
   "cell_type": "markdown",
   "id": "7fe2c407",
   "metadata": {},
   "source": [
    "# Mission 1:  Construisez l'échantillon contenant l'ensemble des pays disponibles.\n",
    "chacun caractérisé par ces variables :\n",
    "\n",
    "différence de population entre une année antérieure (au choix) et l'année courante, exprimée en pourcentage ;\n",
    "proportion de protéines d'origine animale par rapport à la quantité totale de protéines dans la disponibilité alimentaire du pays ;\n",
    "disponibilité alimentaire en protéines par habitant ;\n",
    "disponibilité alimentaire en calories par habitant."
   ]
  },
  {
   "cell_type": "markdown",
   "id": "5c6b5835",
   "metadata": {},
   "source": [
    "## 1. La population par pays\n",
    "la variation de la population entre 2009 et 2019, en %, qui sera positive en cas de croissance ou négative en cas de baisse démographique ;"
   ]
  },
  {
   "cell_type": "markdown",
   "id": "745dfa50",
   "metadata": {},
   "source": [
    "Sources FAO (https://www.fao.org/faostat/fr/#data/OA)"
   ]
  },
  {
   "cell_type": "code",
   "execution_count": null,
   "id": "c9a7a159",
   "metadata": {},
   "outputs": [],
   "source": [
    "df_population = pd.read_csv('datas/fao-populations_2019- 2009.csv' , header=0, sep=\",\", decimal=\".\")\n",
    "df_population.head(2)"
   ]
  },
  {
   "cell_type": "code",
   "execution_count": null,
   "id": "21855f32",
   "metadata": {},
   "outputs": [],
   "source": [
    "df_population = df_population[['Code zone (FAO)', 'Zone', 'Produit', 'Année', 'Valeur']]\n",
    "df_population['Valeur'] = df_population['Valeur']*1000\n",
    "df_population.head()"
   ]
  },
  {
   "cell_type": "code",
   "execution_count": null,
   "id": "483c4762",
   "metadata": {},
   "outputs": [],
   "source": [
    "#pivot\n",
    "df_population = df_population.pivot_table(index=['Code zone (FAO)','Zone'], columns='Année', values = 'Valeur', aggfunc = sum).reset_index()\n",
    "df_population\n",
    "\n"
   ]
  },
  {
   "cell_type": "code",
   "execution_count": null,
   "id": "21b1b088",
   "metadata": {},
   "outputs": [],
   "source": [
    "#rename\n",
    "df_population.columns = ['Code zone (FAO)','Zone', '2009', '2019']\n",
    "\n",
    "#variable creation\n",
    "df_population['Évolution population (%)'] = round((df_population['2019'] - df_population['2009']) /\n",
    "                                               df_population['2019'] *100,2)\n",
    "\n",
    "\n",
    "population2009 = df_population['2009'].sum()\n",
    "population2019 = df_population['2019'].sum()\n",
    "evolution_globale = round(((population2019 - population2009) / population2009)*100,3)\n",
    "print('Pour indication, la population totale en 2009 était de', population2009, 'et de', population2019, 'en 2019.\\nL\\'évolution 2009/2019 est de', evolution_globale, '%.')\n",
    "\n",
    "\n",
    "df_population= df_population.rename(columns= {'2019': 'population',})\n",
    "df_population= df_population[[ 'Code zone (FAO)','Zone'  ,'population' ,'Évolution population (%)']]\n",
    "\n",
    "#show\n",
    "\n",
    "df_population"
   ]
  },
  {
   "cell_type": "code",
   "execution_count": null,
   "id": "b5d02320",
   "metadata": {},
   "outputs": [],
   "source": [
    "df_population.shape"
   ]
  },
  {
   "cell_type": "markdown",
   "id": "5295d006",
   "metadata": {},
   "source": [
    "## 2. Données sur les bilans alimentaires mondiaux (2019)\n"
   ]
  },
  {
   "cell_type": "markdown",
   "id": "e262a41c",
   "metadata": {},
   "source": [
    "\n",
    "Sources FAO (http://www.fao.org/faostat/fr/#data)\n"
   ]
  },
  {
   "cell_type": "code",
   "execution_count": null,
   "id": "2ed2d9da",
   "metadata": {},
   "outputs": [],
   "source": [
    "df_dispo_alimentaire = pd.read_csv('datas/les bilans alimentaires 2019.csv', header=0, sep=\",\", decimal=\".\")\n",
    "df_dispo_alimentaire.head(4)"
   ]
  },
  {
   "cell_type": "code",
   "execution_count": null,
   "id": "555f6ebf",
   "metadata": {},
   "outputs": [],
   "source": [
    "df_dispo_alimentaire = df_dispo_alimentaire.pivot_table(index=[ 'Zone','Code zone (FAO)'],\n",
    "                                columns=['?l?ment', 'Produit'],\n",
    "                                values = 'Valeur',\n",
    "                                aggfunc=sum).reset_index()\n",
    "df_dispo_alimentaire.head()"
   ]
  },
  {
   "cell_type": "code",
   "execution_count": null,
   "id": "fd36e884",
   "metadata": {},
   "outputs": [],
   "source": [
    "df_dispo_alimentaire[\"ratio_proteines_animales(%)\"] = round((df_dispo_alimentaire[('Disponibilit? de prot?ines en quantit? (g/personne/jour)', 'Produits Animaux')]\n",
    "                                                                         /df_dispo_alimentaire[('Disponibilit? de prot?ines en quantit? (g/personne/jour)', 'Total General')])*100,2)\n",
    "df_dispo_alimentaire.head(2)"
   ]
  },
  {
   "cell_type": "code",
   "execution_count": null,
   "id": "49d88e95",
   "metadata": {},
   "outputs": [],
   "source": [
    "df= pd.merge(df_population, df_dispo_alimentaire, on=\"Code zone (FAO)\")\n",
    "\n",
    "df.head()"
   ]
  },
  {
   "cell_type": "code",
   "execution_count": null,
   "id": "17401597",
   "metadata": {},
   "outputs": [],
   "source": [
    "df = df[['Code zone (FAO)','Zone', 'population','Évolution population (%)',\n",
    "         ('Disponibilit? alimentaire (Kcal/personne/jour)', 'Total General'),\n",
    "         ('Disponibilit? de prot?ines en quantit? (g/personne/jour)', 'Total General'),\n",
    "         ('ratio_proteines_animales(%)','') ]]\n",
    "df.head()"
   ]
  },
  {
   "cell_type": "code",
   "execution_count": null,
   "id": "ce78bd0a",
   "metadata": {
    "scrolled": true
   },
   "outputs": [],
   "source": [
    "df.rename(columns={('Disponibilit? alimentaire (Kcal/personne/jour)', 'Total General'):'dispo_calories',\n",
    "                              ('Disponibilit? de prot?ines en quantit? (g/personne/jour)', 'Total General'):'dispo_proteines',\n",
    "                            ('ratio_proteines_animales(%)','' ):'ratio_proteines_animales(%)'}\n",
    "                     ,inplace=True)\n",
    "\n",
    "df['dispo_calories'] = df['dispo_calories']*365\n",
    "df['dispo_proteines'] = df['dispo_proteines']*365\n",
    "df.head()"
   ]
  },
  {
   "cell_type": "markdown",
   "id": "b96e37a0",
   "metadata": {},
   "source": [
    "## 3.  Les valeurs de PIB par habitant,\n",
    "https://www.fao.org/faostat/fr/#data/FS"
   ]
  },
  {
   "cell_type": "code",
   "execution_count": null,
   "id": "30c261fe",
   "metadata": {},
   "outputs": [],
   "source": [
    "# Dataframes des données complémentaires\n",
    "# Indicateurs Macro (PIB et croissance)\n",
    "df_PIB_habitant = pd.read_csv('datas/PIB.csv', header=0, sep=',', decimal='.')\n",
    "\n",
    "df_PIB_habitant"
   ]
  },
  {
   "cell_type": "code",
   "execution_count": null,
   "id": "0ccfb48a",
   "metadata": {},
   "outputs": [],
   "source": [
    "df_PIB_habitant = df_PIB_habitant[['Code zone (FAO)','Élément','Valeur','Produit']]\n",
    "                        \n",
    "df_PIB_habitant"
   ]
  },
  {
   "cell_type": "code",
   "execution_count": null,
   "id": "82f7df32",
   "metadata": {},
   "outputs": [],
   "source": [
    "df_PIB_habitant = df_PIB_habitant.pivot_table(index=['Code zone (FAO)'], columns='Élément', values='Valeur', aggfunc=sum).reset_index()\n",
    "df_PIB_habitant"
   ]
  },
  {
   "cell_type": "code",
   "execution_count": null,
   "id": "504ee4c1",
   "metadata": {},
   "outputs": [],
   "source": [
    "\n",
    "df_PIB_habitant = df_PIB_habitant.rename(columns={'Valeur US $ par habitant':\"PIB_par_habitant\",'Valeur US $':'PIB(M)' })\n",
    "df_PIB_habitant     "
   ]
  },
  {
   "cell_type": "markdown",
   "id": "c8781f06",
   "metadata": {},
   "source": [
    "## 4. Production viande de Volailles, taux d'autosuffisance\n",
    "défini en économie comme le rapport entre les importations et la disponibilité intérieure du pays ;\n",
    "\n",
    "https://www.fao.org/faostat/fr/#data/FBS"
   ]
  },
  {
   "cell_type": "code",
   "execution_count": null,
   "id": "ae5ff849",
   "metadata": {},
   "outputs": [],
   "source": [
    "df_viande_volailles = pd.read_csv('datas/la viande de volailles1!.csv', header=0, sep=\",\", decimal=\".\")\n",
    "df_viande_volailles.head(6)"
   ]
  },
  {
   "cell_type": "code",
   "execution_count": null,
   "id": "0bcde65f",
   "metadata": {},
   "outputs": [],
   "source": [
    "df_viande_volailles = df_viande_volailles.pivot_table(index=['Code zone (FAO)'],\n",
    "                                columns=['Élément'],\n",
    "                                values = 'Valeur',\n",
    "                                aggfunc=sum).reset_index()\n",
    "#Le taux_suffisance= Production  ÷ (Production alimentaire domestique + importations ー exportations) ×100\n",
    "df_viande_volailles['taux_suffisance(٪)']=((df_viande_volailles['Production'] ) / \n",
    "                                           (df_viande_volailles['Disponibilité intérieure']))*100\n",
    "\n",
    "\n",
    "\n",
    "#le taux de dépendance aux importations, défini en économie comme le rapport entre les importations et la disponibilité intérieure du pays ;\n",
    "\n",
    "df_viande_volailles['taux_dépendance_importations(٪)']=(df_viande_volailles['Importations - Quantité'] /\n",
    "                                                        df_viande_volailles['Disponibilité intérieure'])*100\n",
    "\n",
    "\n",
    "\n",
    "#df_viande_volailles['taux_Exportations(%)']=(df_viande_volailles['Exportations - Quantité'] /\n",
    "                                                        #df_viande_volailles['Disponibilité intérieure'])*100\n",
    "\n",
    "df_viande_volailles = df_viande_volailles[['Code zone (FAO)','taux_suffisance(٪)','taux_dépendance_importations(٪)']]\n",
    "\n",
    "df_viande_volailles"
   ]
  },
  {
   "cell_type": "markdown",
   "id": "9e603f9f",
   "metadata": {},
   "source": [
    "**Le taux d'auto-suffisance alimentaire** est un indice permettant de mesurer l'importance de la production alimentaire d'un pays par rapport à sa consommation intérieure.\n",
    "\n",
    "\n"
   ]
  },
  {
   "cell_type": "markdown",
   "id": "ac972268",
   "metadata": {},
   "source": [
    "# Dataframe principal"
   ]
  },
  {
   "cell_type": "code",
   "execution_count": null,
   "id": "36a4f506",
   "metadata": {},
   "outputs": [],
   "source": [
    "\n",
    "df= pd.merge(df, df_PIB_habitant, on=\"Code zone (FAO)\")\n",
    "\n",
    "\n",
    "\n",
    "df= pd.merge(df, df_viande_volailles, on=\"Code zone (FAO)\")\n",
    "df.head()"
   ]
  },
  {
   "cell_type": "code",
   "execution_count": null,
   "id": "1d72e599",
   "metadata": {},
   "outputs": [],
   "source": [
    "df.info()"
   ]
  },
  {
   "cell_type": "code",
   "execution_count": null,
   "id": "d5601f6d",
   "metadata": {},
   "outputs": [],
   "source": [
    "#Identifier la présence de doublons\n",
    "print(df.duplicated().sum())\n"
   ]
  },
  {
   "cell_type": "code",
   "execution_count": null,
   "id": "c4ae4a9f",
   "metadata": {},
   "outputs": [],
   "source": [
    "#Trouver les valeurs manquantes\n",
    "df_null=  df.loc[df.isnull().any(axis=1)]\n",
    "df_null"
   ]
  },
  {
   "cell_type": "code",
   "execution_count": null,
   "id": "070dbd41",
   "metadata": {},
   "outputs": [],
   "source": [
    "df=df.dropna()\n"
   ]
  },
  {
   "cell_type": "code",
   "execution_count": null,
   "id": "c2a98c0a",
   "metadata": {},
   "outputs": [],
   "source": [
    "df.describe()"
   ]
  },
  {
   "cell_type": "code",
   "execution_count": null,
   "id": "08b489bc",
   "metadata": {},
   "outputs": [],
   "source": [
    "#Retrait du pays 'France' sur notre échantillon \n",
    "df = df[df['Zone'] != 'France']"
   ]
  },
  {
   "cell_type": "code",
   "execution_count": null,
   "id": "03c69a2f",
   "metadata": {},
   "outputs": [],
   "source": [
    "#Calcul de fréquence en Chine\n",
    "df[df['Zone'].str.contains('hin')]"
   ]
  },
  {
   "cell_type": "code",
   "execution_count": null,
   "id": "a74b00bf",
   "metadata": {},
   "outputs": [],
   "source": [
    "#Supprimer la ligne Chine\n",
    "df = df[df['Zone'] != 'Chine']\n",
    "\n"
   ]
  },
  {
   "cell_type": "code",
   "execution_count": null,
   "id": "255174ec",
   "metadata": {},
   "outputs": [],
   "source": [
    "#Vérification d'éventuelles valeurs manquantes et/ou en doubles dans l'échantillon\n",
    "print(df.duplicated().sum())\n",
    "print(df.isna().sum())"
   ]
  },
  {
   "cell_type": "code",
   "execution_count": null,
   "id": "8d39824a",
   "metadata": {},
   "outputs": [],
   "source": [
    "df= df.rename(columns={'Zone': 'pays'} )"
   ]
  },
  {
   "cell_type": "code",
   "execution_count": null,
   "id": "ee418b99",
   "metadata": {
    "scrolled": false
   },
   "outputs": [],
   "source": [
    "df.style.background_gradient(cmap='BrBG')\n"
   ]
  },
  {
   "cell_type": "code",
   "execution_count": null,
   "id": "dc7c0c26",
   "metadata": {},
   "outputs": [],
   "source": [
    "df"
   ]
  },
  {
   "cell_type": "code",
   "execution_count": null,
   "id": "a253faa7",
   "metadata": {},
   "outputs": [],
   "source": [
    "df.to_csv('exports/df.csv', index=False)"
   ]
  },
  {
   "cell_type": "code",
   "execution_count": null,
   "id": "6b1deae2",
   "metadata": {},
   "outputs": [],
   "source": [
    "df = df[df['pays'] != 'Pays-Bas']"
   ]
  },
  {
   "cell_type": "markdown",
   "id": "b9c376cb",
   "metadata": {},
   "source": [
    "# Mission 2 : réalisation d'un dendrogramme\n",
    "\n",
    "Construisez un dendrogramme contenant l'ensemble des pays étudiés, puis coupez-le afin d'obtenir 5 groupes.\n",
    "\n",
    "Caractérisez chacun de ces groupes selon les variables cités précédemment, et facultativement selon d'autres variables que vous jugerez pertinentes (ex : le PIB par habitant). Vous pouvez le faire en calculant la position des centroïdes de chacun des groupes, puis en les commentant et en les critiquant au vu de vos objectifs.\n",
    "\n",
    "Donnez une courte liste de pays à cibler, en présentant leurs caractéristiques. Un découpage plus précis qu'en 5 groupes peut si besoin être effectué pour cibler un nombre raisonnable de pays. \n"
   ]
  },
  {
   "cell_type": "markdown",
   "id": "bf2744c0",
   "metadata": {},
   "source": [
    "# Environnement\n"
   ]
  },
  {
   "cell_type": "code",
   "execution_count": null,
   "id": "4530a06b",
   "metadata": {
    "scrolled": true
   },
   "outputs": [],
   "source": [
    "#pays comme index\n",
    "df_clus=df.set_index('pays', drop=True, append=False, inplace=False, verify_integrity=False)\n",
    "\n",
    "# préparation des données pour le clustering\n",
    "df_clus = df_clus[[\"Évolution population (%)\", \"dispo_calories\",\n",
    "                                 \"dispo_proteines\",'ratio_proteines_animales(%)',\n",
    "                                 'PIB_par_habitant','taux_suffisance(٪)','taux_dépendance_importations(٪)']]\n",
    "\n",
    "df_clus.head(2)\n"
   ]
  },
  {
   "cell_type": "markdown",
   "id": "9e663b11",
   "metadata": {},
   "source": [
    "# Aperçu des corrélations"
   ]
  },
  {
   "cell_type": "code",
   "execution_count": null,
   "id": "a6269846",
   "metadata": {},
   "outputs": [],
   "source": [
    "plt.figure(figsize=(15,5))\n",
    "\n",
    "mask = np.zeros_like(df_clus.corr())\n",
    "mask[np.triu_indices_from(mask)] = True\n",
    "\n",
    "sns.heatmap(df_clus.corr(), mask=mask, vmin=-1, vmax=1, annot=True, cmap='BrBG')\n",
    "\n",
    "plt.xticks(rotation=25, ha='right')\n",
    "plt.title('La corrélation des variables',  fontsize=18, pad=20)\n",
    "\n",
    "plt.show()"
   ]
  },
  {
   "cell_type": "markdown",
   "id": "ab0a7f43",
   "metadata": {},
   "source": [
    "# Observations\n",
    "\n",
    "D'après le tableau de corrélation coloré ci-dessus, on peut constater une corrélation positive  forte entre la disponibilité alimentaire en protéine par personnes et celle en kcal par personne et la pourcentage de protéine d'origine animale et le PIB .\n",
    "\n",
    "\n",
    "Dans une moindre mesure, on retrouve également une corrélation négative entre le pourcentage d'évolution de la population et les différents régimes alimentaires des pays (protéines, kcal, pourcentage de protéine d'origine animale).\n",
    "\n",
    "**Nous sommes intéressés par les pays les plus susceptibles de consommer du poulet, donc ceux ayant un fort ratio de protéines animales. Les corrélations montrent que ces pays sont susceptibles d'avoir un fort PIB, et de grandes disponibilités en protéines et calories.**"
   ]
  },
  {
   "cell_type": "markdown",
   "id": "e89123ef",
   "metadata": {},
   "source": [
    "# Clustering"
   ]
  },
  {
   "cell_type": "markdown",
   "id": "39c81c56",
   "metadata": {},
   "source": [
    "## Classification des pays via Clustering Hiérarchique Ascendant (CHA)\n",
    "\n",
    "La classification sera établie sur la base des variables suivantes :\n",
    "\n",
    "**La différence de population entre l'année 2013 et l'année 2019, exprimée en pourcentage;\\\n",
    "La proportion de protéines d'origine animale par rapport à la quantité totale de protéines dans la disponibilité alimentaire du pays;\\\n",
    "La disponibilité alimentaire en grammes de protéines par habitant ;\\\n",
    "La disponibilité alimentaire en Kcal par habitant.\\\n",
    "PIB par habitant.\\\n",
    "Rapport de dépendance à l'importation.\\\n",
    "La taux suffisance(٪).**\n",
    "\n",
    "L'échantillon comporte peu de variables sur la dimension dite du \"Régime alimentaire\" et et variables économiques, il comporte également un nombre de pays \"maîtrisables\" qui permet de commencer par une classification hiérarchique. Algorithme qui a une forte complexité algorithmique en temps et en espace, le clustering hiérarchique est recommandé pour les petits échantillons.\n",
    "\n",
    "\n",
    "\n",
    "Le clustering permet de regrouper des individus similaires, c'est-à-dire qu'il va partitionner l'ensemble des individus. On cherche donc à ce que les groupes soient :\n",
    "\n",
    "    **Resserrés sur eux-mêmes : deux points qui sont proches devraient appartenir au même groupe.\n",
    "  \n",
    "    **Loin les uns des autres, c’est-à-dire qu’ils soient fortement différenciés.\n",
    "\n",
    "Au préalable, il est nécessaire de centrer-réduire les données. C’est à dire, recalculer chaque valeur de manière à ce que la moyenne de la variable soit égale à 0 et la variance et l’écart-type égalent 1. Pour une variable donnée, on soustrait à chaque valeur la moyenne de la variable, puis on divise le tout par l’écart-type.\n",
    "\n",
    "Ensuite, nous pouvons procéder à la classification ascendante hiérarchique selon la méthode de Ward. \n"
   ]
  },
  {
   "cell_type": "code",
   "execution_count": null,
   "id": "3388605c",
   "metadata": {},
   "outputs": [],
   "source": [
    "\n",
    "from sklearn import preprocessing\n",
    "from scipy.cluster.hierarchy import linkage, fcluster, dendrogram\n",
    "\n",
    "\n",
    "# dans array numpy\n",
    "X = df_clus.values \n",
    "#nous allons extraire les données d'expression de 172 pays  dans un tableau de données numériques .\n",
    " #X comporte uniquement les données  , il ne contient pas les étiquettes des échantillons.\n",
    "\n",
    "pays = df_clus.index\n",
    " #Conservons les étiquettes de chaque échantillon  dans la variable pays.\n",
    "\n",
    "\n",
    "\n",
    "\n",
    "#centering and reduction\n",
    "std_scale = preprocessing.StandardScaler().fit(X)\n",
    "X_scaled = std_scale.transform(X)\n",
    "\n",
    "#Standardisez les caractéristiques en supprimant la moyenne et en mettant à l'échelle la variance unitaire.\n",
    "#Le score standard d'un échantillon x est calculé comme suit :\n",
    "#z = (x - u) / s où\n",
    "# u est la moyenne des échantillons d'apprentissage ou zéro si with_mean=False, \n",
    "# s est l'écart type des échantillons d'apprentissage ou un si with_std=False.\n",
    "\n",
    "#X_cr =array([[-0.90652015,  0.30068128,  0.61600031, ..., -0.47817227,\n",
    "        #-1.15900796,  0.84483273],\n",
    "       #[ 1.29355645, -1.35075836, -1.15709131, ..., -0.68784567,\n",
    "        #-0.7198978 ,  0.54941119],...,\n",
    "\n",
    "        \n",
    "#X_cr = pd.DataFrame(X_cr, index =pays, columns=df_clus.columns)\n",
    "\n",
    "# Clustering hiérarchique avec librairie scipy\n",
    "z=linkage(X_scaled, method='ward' ,metric='euclidean')\n",
    "\n",
    "# Affichage du dendogramme\n",
    "plt.figure(figsize=(12,25), dpi=300)\n",
    "plt.title('Dendogramme de classification ascendante hiérarchique (CAH)')\n",
    "plt.xlabel('distance')\n",
    "dendrogram(\n",
    "    z,#Regroupement hiérarchique encodé avec la matrice renvoyée par la fonction de linkage.\n",
    "    labels = pays,\n",
    "    orientation = \"right\",\n",
    "    color_threshold=7\n",
    ")\n",
    "plt.savefig('exports/dendogram_CAH_1.png')\n",
    "plt.show()"
   ]
  },
  {
   "cell_type": "markdown",
   "id": "5d51d9c9",
   "metadata": {},
   "source": [
    "Une fois le dendrogramme obtenu, nous pouvons choisir en combien de clusters nous pouvons diviser notre arbre. Ici, une partition en 5 clusters permet d’avoir des groupes de taille raisonnable à analyser.\n",
    "\n",
    "Graphiquement, on voit bien que la méthode de Ward a permis de minimiser les distances intra-classes à chaque regroupement.\n",
    "\n",
    "\n",
    "Essayons de caractériser chacun de ces clusters en regardant la valeur de leurs centroïde pour chaque variable. Les centroïdes représentent tout simplement la valeur moyenne d’une variable pour un cluster donné.\n",
    "Différences entre les clusters :"
   ]
  },
  {
   "cell_type": "code",
   "execution_count": null,
   "id": "cc14d6c6",
   "metadata": {},
   "outputs": [],
   "source": [
    "plt.figure(figsize=(12,8), dpi=300)\n",
    "plt.title('Dendogramme de classification ascendante hiérarchique tronqué')\n",
    "plt.xlabel('distance')\n",
    "plt.grid(False)\n",
    "dendrogram(\n",
    "    z,      #linkage(X_cr, method='ward' ,metric='euclidean'),\n",
    "    truncate_mode='lastp', #Les p derniers clusters non singleton formés dans la liaison sont les seuls nœuds non feuilles dans la liaison ; \n",
    "    p = 5,\n",
    "    labels = pays,\n",
    "    orientation = \"right\",\n",
    "    show_contracted=True,)\n",
    "plt.savefig('exports/dendogram_CAH_truncated_1.png')\n",
    "plt.show()\n",
    "\n"
   ]
  },
  {
   "cell_type": "markdown",
   "id": "b2b1ec13",
   "metadata": {},
   "source": [
    "# Attribution des 5 groupes et World map de répartition"
   ]
  },
  {
   "cell_type": "code",
   "execution_count": null,
   "id": "ff495825",
   "metadata": {},
   "outputs": [],
   "source": [
    "# Coupage du dendrogramme en 5 clusters avec Scipy\n",
    "groupe_cah = fcluster(z, 5, criterion='maxclust')\n",
    "#array([2, 1, 4, 5, 2, 2, 5, 3, 3, 2, 4,....\n",
    "#pas plus de t clusters  sont formées.\n",
    "#fcluster: formez des clusters plats à partir du clustering hiérarchique défini par la matrice de liaison donnée.\n",
    "\n",
    "#affichage des pays et leurs groupes\n",
    "df_groupage_1 = pd.DataFrame(columns=[\"groupe_cah\",\"pays\"])\n",
    "df_groupage_1[\"pays\"] = df_clus.index\n",
    "df_groupage_1[\"groupe_cah\"] = groupe_cah\n",
    "\n",
    "df_groupage_1"
   ]
  },
  {
   "cell_type": "code",
   "execution_count": null,
   "id": "35547082",
   "metadata": {},
   "outputs": [],
   "source": [
    "groupe_cah"
   ]
  },
  {
   "cell_type": "code",
   "execution_count": null,
   "id": "4f2d4ee9",
   "metadata": {},
   "outputs": [],
   "source": [
    "# Jointure pour ajout des groupes dans le dataframe principal\n",
    "df_groupes_cah = pd.merge(df_clus, df_groupage_1, on=\"pays\")\n",
    "df_groupes_cah.to_csv('exports/groupes_cah.csv', index=False)\n",
    "df_groupes_cah.sample(5)"
   ]
  },
  {
   "cell_type": "markdown",
   "id": "f7858ea4",
   "metadata": {},
   "source": [
    "# Centroïdes des clusters"
   ]
  },
  {
   "cell_type": "code",
   "execution_count": null,
   "id": "05894d20",
   "metadata": {
    "scrolled": true
   },
   "outputs": [],
   "source": [
    "#Première comparaison des moyennes afin d'identifier le groupe de pays le plus porteur à ce niveau de l'analyse\n",
    "df_groupes_cah.groupby('groupe_cah').mean()"
   ]
  },
  {
   "cell_type": "code",
   "execution_count": null,
   "id": "0731d818",
   "metadata": {},
   "outputs": [],
   "source": [
    "#Préparation de sous-ensembles permettant de caractériser les groupes un à un\n",
    "df_groupe1_cah = df_groupes_cah[df_groupes_cah['groupe_cah'] == 1]\n",
    "df_groupe2_cah = df_groupes_cah[df_groupes_cah['groupe_cah'] == 2]\n",
    "df_groupe3_cah = df_groupes_cah[df_groupes_cah['groupe_cah'] == 3]\n",
    "df_groupe4_cah = df_groupes_cah[df_groupes_cah['groupe_cah'] == 4]\n",
    "df_groupe5_cah = df_groupes_cah[df_groupes_cah['groupe_cah'] == 5]\n",
    "\n"
   ]
  },
  {
   "cell_type": "code",
   "execution_count": null,
   "id": "31df0718",
   "metadata": {},
   "outputs": [],
   "source": [
    "\n",
    "\n",
    "#Pays du groupe 1 et 2 identifiés comme potentiellement intéressants\n",
    "\n",
    "print('groupe 1')\n",
    "print('----------')\n",
    "print(df_groupe1_cah['pays'].unique())\n",
    "print('------------------------------------------------------------')\n",
    "print('------------------------------------------------------------')\n",
    "\n",
    "\n",
    "print('groupe 2')\n",
    "print('----------')\n",
    "print(df_groupe2_cah['pays'].unique())\n",
    "print('------------------------------------------------------------')\n",
    "print('------------------------------------------------------------')\n",
    "\n",
    "\n",
    "print('groupe 3')\n",
    "print('----------')\n",
    "print(df_groupe3_cah['pays'].unique())\n",
    "print('------------------------------------------------------------')\n",
    "print('------------------------------------------------------------')\n",
    "\n",
    "\n",
    "print('groupe 4')\n",
    "print('----------')\n",
    "print(df_groupe4_cah['pays'].unique())\n",
    "print('------------------------------------------------------------')\n",
    "print('------------------------------------------------------------')\n",
    "\n",
    "\n",
    "print('groupe 5')\n",
    "print('----------')\n",
    "print(df_groupe5_cah['pays'].unique())\n",
    "print('------------------------------------------------------------')\n",
    "print('------------------------------------------------------------')\n",
    "\n",
    "\n",
    "\n",
    "\n"
   ]
  },
  {
   "cell_type": "code",
   "execution_count": null,
   "id": "6bb42186",
   "metadata": {},
   "outputs": [],
   "source": [
    "#Comparaison visuelle des groupes par Boxplot, en abscisse les numéros des groupes\n",
    "plt.figure(figsize=(20, 20))\n",
    "sns.set(style=\"whitegrid\")\n",
    "\n",
    "plt.subplot(221)\n",
    "sns.boxplot(data=df_groupes_cah, x='groupe_cah', y='dispo_calories')\n",
    "\n",
    "plt.subplot(222)\n",
    "sns.boxplot(data=df_groupes_cah, x='groupe_cah', y='dispo_proteines')\n",
    "\n",
    "plt.subplot(223)\n",
    "sns.boxplot(data=df_groupes_cah, x='groupe_cah', y='ratio_proteines_animales(%)')\n",
    "\n",
    "plt.subplot(224)\n",
    "sns.boxplot(data=df_groupes_cah, x='groupe_cah', y='Évolution population (%)')\n",
    "\n",
    "plt.savefig(\"exports/boxplot_dendogramme3.png\")\n",
    "\n",
    "\n",
    "\n",
    "\n",
    "plt.show(block=False)"
   ]
  },
  {
   "cell_type": "markdown",
   "id": "eaf65535",
   "metadata": {},
   "source": [
    "# Description et critique des clusters"
   ]
  },
  {
   "cell_type": "code",
   "execution_count": null,
   "id": "43ac80b4",
   "metadata": {},
   "outputs": [],
   "source": [
    "\n",
    "\n",
    "#Comparaison visuelle des groupes par Boxplot, en abscisse les numéros des groupes\n",
    "plt.figure(figsize=(20, 20))\n",
    "sns.set(style=\"whitegrid\")\n",
    "\n",
    "plt.subplot(221)\n",
    "sns.boxplot(data=df_groupes_cah, x='groupe_cah', y='dispo_calories')\n",
    "\n",
    "\n",
    "plt.subplot(222)\n",
    "sns.boxplot(data=df_groupes_cah, x='groupe_cah', y='dispo_proteines')\n",
    "\n",
    "plt.subplot(223)\n",
    "sns.boxplot(data=df_groupes_cah, x='groupe_cah', y='ratio_proteines_animales(%)')\n",
    "\n",
    "plt.subplot(224)\n",
    "sns.boxplot(data=df_groupes_cah, x='groupe_cah', y='Évolution population (%)')\n",
    "\n",
    "\n",
    "plt.savefig(\"exports/boxplot_dendogramme3.png\")\n",
    "\n",
    "\n",
    "\n",
    "\n",
    "plt.show(block=False)"
   ]
  },
  {
   "cell_type": "code",
   "execution_count": null,
   "id": "fabfb801",
   "metadata": {},
   "outputs": [],
   "source": [
    "#Comparaison visuelle des groupes par Boxplot, en abscisse les numéros des groupes\n",
    "plt.figure(figsize=(20, 20))\n",
    "sns.set(style=\"whitegrid\")\n",
    "\n",
    "plt.subplot(221)\n",
    "sns.boxplot(data=df_groupes_cah, x='groupe_cah', y='PIB_par_habitant')\n",
    "\n",
    "\n",
    "plt.subplot(222)\n",
    "sns.boxplot(data=df_groupes_cah, x='groupe_cah', y='taux_dépendance_importations(٪)')\n",
    "\n",
    "\n",
    "plt.subplot(223)\n",
    "sns.boxplot(data=df_groupes_cah, x='groupe_cah', y='taux_suffisance(٪)')\n",
    "\n",
    "\n",
    "plt.savefig(\"exports/boxplot_dendogramme3.png\")\n",
    "\n",
    "\n",
    "\n",
    "\n",
    "plt.show(block=False)"
   ]
  },
  {
   "cell_type": "markdown",
   "id": "d43a5ead",
   "metadata": {},
   "source": [
    "Le clusters 1, situés majoritairement en Afrique, sont ceux qui ont les démographies les plus fortes et les PIB/habitants les plus faibles.\n",
    "\n",
    "Le cluster 3  reflète au contraire des pays en moyenne plus riches comme les USA ou la plupart des pays européens.\n",
    "\n",
    "Le cluster 2,4 et 5 est dans une position intermédiaire et regroupe principalement des pays émergeants tels que l'Inde.\n",
    "\n",
    "\n"
   ]
  },
  {
   "cell_type": "markdown",
   "id": "774fa4db",
   "metadata": {},
   "source": [
    "Quant aux disponibilités alimentaires, elles suivent les mêmes tendances que le PIB. Les pays les plus pauvres ont moins accès à la nourriture. Cela fait écho au problème de dénutrition mis en évidence lors du projet 3."
   ]
  },
  {
   "cell_type": "markdown",
   "id": "211f92de",
   "metadata": {},
   "source": [
    "La consommation de protéines animales confirme le cloisonnement, avec une forte alimentation carnée de la part des clusters 3 et 4."
   ]
  },
  {
   "cell_type": "markdown",
   "id": "3f663298",
   "metadata": {},
   "source": [
    "Les deux dernières variantes se développent complètement différemment. On voit que les groupes 2   et 4 sont  ceux qui importent beaucoup plus de viande de volaille qu'ils n'en produisent.\n",
    "\n",
    "En fait, ce sont eux qui détiennent les taux d'autosuffisance les plus bas. Au contraire, le Groupe   5 est majoritairement autosuffisant et importe peu par rapport à sa production."
   ]
  },
  {
   "cell_type": "markdown",
   "id": "67936545",
   "metadata": {},
   "source": [
    "Les groupes qui dépendent fortement des importations sont les meilleures cibles pour nos ventes.\n",
    "En plus des groupes qui ont le PIB le plus élevé.\n",
    "Nous choisirons donc le groupe 2 et le groupe 3\n",
    "Ces pays consomment en moyenne plus de protéines d'origine animale que le reste des groupes ;"
   ]
  },
  {
   "cell_type": "code",
   "execution_count": null,
   "id": "96014f1c",
   "metadata": {},
   "outputs": [],
   "source": [
    "df_select_pays_cah = df_groupes_cah[df_groupes_cah[\"groupe_cah\"].isin([2,3]) == True]\n",
    "\n",
    "df_select_pays_cah.to_csv('exports/df_select_pays_cah.csv', index=False)\n",
    "df_select_pays_cah.shape\n",
    "df_select_pays_cah"
   ]
  },
  {
   "cell_type": "code",
   "execution_count": null,
   "id": "03216365",
   "metadata": {},
   "outputs": [],
   "source": [
    "df_select_pays_cah.shape"
   ]
  },
  {
   "cell_type": "markdown",
   "id": "84cb3ce8",
   "metadata": {},
   "source": [
    "En conclusion pour cette première division,62 pays deviendraient vraisemblablement une cible appropriée pour l'entreprise. La demande sera présente dans ces pays.\n",
    "Appliquons une autre méthode, celle des K-Means, afin de pouvoir comparer cette première sélection."
   ]
  },
  {
   "cell_type": "markdown",
   "id": "9d76214c",
   "metadata": {},
   "source": [
    "# Application de l'algorithme du K-Means"
   ]
  },
  {
   "cell_type": "markdown",
   "id": "e72d3028",
   "metadata": {},
   "source": [
    "\n",
    "Le clustering K-Means est une méthode de clustering simple mais puissante qui crée 𝑘 segments distincts des données où la variation au sein des clusters est aussi petite que possible. Pour trouver le nombre optimal de clusters, je vais essayer différentes valeurs de 𝑘 et calculer l'inertie, ou score de distorsion, pour chaque modèle.\n",
    " L'inertie mesure la similarité du cluster en calculant la distance totale entre les points de données et leur centre de cluster le plus proche. Les clusters avec des observations similaires ont tendance à avoir des distances plus petites entre eux et un score de distorsion plus faible dans l'ensemble.\n",
    "\n",
    "## La méthode de coude nous aidera pour identifier les clusters.\n",
    "\n",
    "\n",
    "•Nous choisissons 'K' manuellement, par visualisation.\n",
    "\n",
    "• Calculer les distances entre les points d'un cluster (With-in Cluster Sum of Squares \"WCSS\").\n",
    "\n",
    "• Si nous minimisons 'WCSS', nous avons atteint la solution de clustering parfaite.\n"
   ]
  },
  {
   "cell_type": "code",
   "execution_count": null,
   "id": "cd821e7b",
   "metadata": {
    "scrolled": true
   },
   "outputs": [],
   "source": [
    "from sklearn.cluster import KMeans\n",
    "from sklearn import cluster\n",
    "\n",
    "\n",
    "K=range(1,10)\n",
    "k_means = []\n",
    "#On fait une boucle de 2 à 9 pour tester toutes ces possibiliéts\n",
    "for k in K:\n",
    "    #pour chaque k, on crée un modèle et on l’ajuste\n",
    "    km=KMeans(n_clusters=k,init=\"k-means++\").fit(X_scaled)\n",
    "     #on stocke l’inertie associée\n",
    "    k_means.append(km.inertia_)\n",
    "\n",
    "\n",
    "#Visualisation des valeurs d'inertie pour chaque nombre de cluster\n",
    "plt.plot(range(1, 10), k_means, marker='o')\n",
    "plt.show()"
   ]
  },
  {
   "cell_type": "code",
   "execution_count": null,
   "id": "3f881737",
   "metadata": {
    "scrolled": true
   },
   "outputs": [],
   "source": [
    "mycenters = pd.DataFrame({'groupe_km' : K, 'WSS' : k_means})\n",
    "mycenters"
   ]
  },
  {
   "cell_type": "markdown",
   "id": "ee92faa1",
   "metadata": {},
   "source": [
    "Idéalement, pour optimiser et ne pas perdre trop d'informations, il est conseillé de choisir k = 5 .\n",
    " Un clustering  en 5 permettra de de comparer le partitionnement avec les groupes de la classification hiérarchique. Il est pertinent de comparer les deux méthodes sur le même nombre de clusters.\n",
    "\n"
   ]
  },
  {
   "cell_type": "code",
   "execution_count": null,
   "id": "5adfad8a",
   "metadata": {
    "scrolled": true
   },
   "outputs": [],
   "source": [
    "\n",
    "#Clustering K-Means en 5 clusters\n",
    "km = cluster.KMeans(n_clusters=5)\n",
    "km.fit(X_scaled)\n",
    "#Récupération des clusters attribués à chaque individu (classes d'appartenance)\n",
    "clusters_km = km.labels_\n",
    "clusters_km\n",
    "\n"
   ]
  },
  {
   "cell_type": "markdown",
   "id": "bc8cd2f5",
   "metadata": {},
   "source": [
    "On obtient donc un tableau de 5 lignes et 7 colonnes, pourquoi ?\n",
    "Nous avons cinq groupes et sept variables.\n",
    "**Pour réduire les dimensions, nous avons besoin de pca**"
   ]
  },
  {
   "cell_type": "markdown",
   "id": "30d30f35",
   "metadata": {},
   "source": [
    "# Visualisation des clusters en ACP pour la projection des données\n"
   ]
  },
  {
   "cell_type": "markdown",
   "id": "d588b9a7",
   "metadata": {},
   "source": [
    "Le principe de **la réduction de dimension** est de réduire la complexité superflue d'un dataset en projetant ses données dans un espace de plus petite dimension .\n",
    "\n",
    "Le principe  de **ACP** est de projeter nos données sur des axes appelés Composantes Principales, en cherchant à minimiser la distance entre nos points et leur projections. De cette manière on réduit la dimension préservant au maximum la variance de nos données. Pour **Préserver un maximum de variance pour optenir la projection qu'il soit la plus fidèle possible à nos données.**\n",
    " \n",
    " Analyse Pour trouver les axes de projection (xp): \n",
    " Pour faire ça dans point de vue mathématique on\n",
    " 1. On calcule la matrice de covariance des données \n",
    " 2. On détermine les vecteurs propres de cette matrice : ce sont les Composantes Principales \n",
    " 3. (On projette les données sur ces axes)\n",
    " \n",
    "\n",
    "\n",
    " \n",
    "**L'ACP (Analyse en Composante Principale) permettra une visualisation des clusters pays sur le premier plan factoriel (ou plus). Il deviendra alors facile de pouvoir appréhender le \"comportement\" des différents groupes.**"
   ]
  },
  {
   "cell_type": "markdown",
   "id": "095402fa",
   "metadata": {},
   "source": [
    "PCA est un transformer ! \n",
    "1. Définir le nombre de composantes \n",
    "2. Transformer les données avec fit transform()\n",
    "\n",
    "Il y a deux cas possibles pour choisir le nombre de composantes sur lesquels projeter nos données? et bien :\n",
    "1. Celui dans lequel vous cherchez à visualiser vos données dans un espace de 2d ou 3D ,pour ça c'est très simple, le nombre de composants doit être égale à deux ou trois\n",
    "2. Celui dans lequel vous cherchez à compresser vos données pour accélérer l'apprentissage de la machine sur des taches de classification ou de régression, pour ça il faut choisir le nombre de composantes de telle sorte à préserver entre 95 et 99 % de la variance de vos données.\n",
    "\n",
    "\n",
    "L’enjeu d’une ACP est de trouver le meilleur plan de projection ayant la plus grande inertie, c’est à dire limitant le plus la perte d’information originelle. Les 7 variables seront synthétisées en de nouvelles variables : PC1, PC2, etc...\n",
    "\n",
    "Comme précédemment, une ACP ne peut se faire que si les données sont centrées et réduites (transformation pour que moyenne = 0, écart-type = 1).\n",
    "\n",
    "### Définir le nombre de composantes "
   ]
  },
  {
   "cell_type": "code",
   "execution_count": null,
   "id": "d4ebaadd",
   "metadata": {},
   "outputs": [],
   "source": [
    "import pca as pca\n",
    "from sklearn import decomposition\n",
    "\n",
    "# Affichage du clustering par projection des individus sur les 2 plans factoriels.\n",
    "pca = decomposition.PCA().fit(X_scaled) #sklearn\n",
    "X_projected = pca.transform(X_scaled)\n",
    "\n",
    "\n",
    "#nous allons examiner quel est le pourcentage de variance préserver pour chacune de nos composantes.\n",
    "scree = pca.explained_variance_ratio_*100\n",
    "plt.bar(np.arange(len(scree))+1, scree)\n",
    "plt.plot(np.arange(len(scree))+1, scree.cumsum(),c=\"red\",marker='o')   \n",
    "plt.xlabel(\"rang de l'axe d'inertie\")\n",
    "plt.ylabel(\"pourcentage d'inertie\")\n",
    "plt.title(\"Eboulis des valeurs propres\")\n",
    "plt.show()\n",
    "\n",
    "#Pourcentage de variance expliquée par les composantes principales à l'aide de .explained_variance_ratio_\n",
    "print(scree.cumsum())\n",
    "\n",
    "\n",
    "\n"
   ]
  },
  {
   "cell_type": "markdown",
   "id": "002761aa",
   "metadata": {},
   "source": [
    "Environ 75 % de la variance des données s'explique par ces deux premières composantes.\n",
    "La méthode du coude précise une forte représentation de nos variables sur les deux premières composantes principales, le premier axe factoriel.\n"
   ]
  },
  {
   "cell_type": "markdown",
   "id": "7a27f1b9",
   "metadata": {},
   "source": [
    "# ACP - Cercle des corrélations"
   ]
  },
  {
   "cell_type": "code",
   "execution_count": 89,
   "id": "c93b6265",
   "metadata": {},
   "outputs": [],
   "source": [
    "def cerle_corr(pcs, n_comp, pca, axis_ranks, labels=None, label_rotation=0, lims=None):\n",
    "    for d1, d2 in axis_ranks:\n",
    "        if d2 < n_comp:\n",
    "\n",
    "            # initialisation de la figure\n",
    "            #fig, ax = plt.subplots(figsize=(12,(n_comp*2)))\n",
    "            #ax.set_aspect('equal', adjustable='box')\n",
    "            fig=plt.figure(figsize=(12,12))\n",
    "            fig.subplots_adjust(left=0.1,right=0.9,bottom=0.1,top=0.9)\n",
    "            ax=fig.add_subplot(111)\n",
    "            ax.set_aspect('equal', adjustable='box')\n",
    "\n",
    "            # détermination des limites du graphique\n",
    "            if lims is not None :\n",
    "                xmin, xmax, ymin, ymax = lims\n",
    "            else :\n",
    "                xmin, xmax, ymin, ymax = -1, 1, -1, 1\n",
    "        \n",
    "            # affichage des flèches\n",
    "            plt.quiver(np.zeros(pcs.shape[1]), np.zeros(pcs.shape[1]),\n",
    "                   pcs[d1,:], pcs[d2,:], \n",
    "                   angles='xy', scale_units='xy', scale=1, color=\"grey\")\n",
    "            \n",
    "            # affichage des noms des variables  \n",
    "            if labels is not None:  \n",
    "                for i,(x, y) in enumerate(pcs[[d1,d2]].T):\n",
    "                    if x >= xmin and x <= xmax and y >= ymin and y <= ymax :\n",
    "                        plt.text(x, y, labels[i], fontsize='14', ha='center', va='center', rotation=label_rotation, color=\"blue\", alpha=0.5)\n",
    "            \n",
    "            # affichage du cercle\n",
    "            circle = plt.Circle((0,0), 1, facecolor='none', edgecolor='b')\n",
    "            plt.gca().add_artist(circle)\n",
    "\n",
    "            # définition des limites du graphique\n",
    "            plt.xlim(xmin, xmax)\n",
    "            plt.ylim(ymin, ymax)\n",
    "        \n",
    "            # affichage des lignes horizontales et verticales\n",
    "            plt.plot([-1, 1], [0, 0], color='grey', ls='--')\n",
    "            plt.plot([0, 0], [-1, 1], color='grey', ls='--')\n",
    "\n",
    "            # nom des axes, avec le pourcentage d'inertie expliqué\n",
    "            plt.xlabel('F{} ({}%)'.format(d1+1, round(100*pca.explained_variance_ratio_[d1],1)))\n",
    "            plt.ylabel('F{} ({}%)'.format(d2+1, round(100*pca.explained_variance_ratio_[d2],1)))\n",
    "\n",
    "            plt.title(\"Cercle des corrélations (F{} et F{})\".format(d1+1, d2+1))\n",
    "            plt.show(block=False)"
   ]
  },
  {
   "cell_type": "code",
   "execution_count": 90,
   "id": "2f5b6dd0",
   "metadata": {},
   "outputs": [
    {
     "data": {
      "image/png": "[encoded data removed]",
      "text/plain": [
       "<Figure size 864x864 with 1 Axes>"
      ]
     },
     "metadata": {},
     "output_type": "display_data"
    }
   ],
   "source": [
    "pcs = pca.components_\n",
    "cerle_corr(pcs, 4, pca, [(0,1)], labels = np.array(df_clus.columns))"
   ]
  },
  {
   "cell_type": "markdown",
   "id": "ec91786d",
   "metadata": {},
   "source": [
    "Ici, l’axe F2 reflète bien le taux de dépendance aux importations et le taux d’autosuffisance. Plus la valeur de l’axe 2 est positive, et plus le pays est importateur. Au contraire, plus les valeurs sont négatives, et plus le pays est autosuffisant avec sa production de viande de volailles et importe peu.\n",
    "\n"
   ]
  },
  {
   "cell_type": "markdown",
   "id": "486c8ea9",
   "metadata": {},
   "source": [
    "On peut d'ailleurs calculer les valeurs de ces variables synthétiques F1 et F2 qui pourraient remplacer les autres variables :\n",
    "\n"
   ]
  },
  {
   "cell_type": "code",
   "execution_count": 91,
   "id": "4a8e0576",
   "metadata": {},
   "outputs": [
    {
     "data": {
      "text/plain": [
       "array([[ 0.8703233 ,  1.29893423, -1.14895213, ..., -0.40850049,\n",
       "         0.04941699,  0.07348783],\n",
       "       [-2.73129301,  0.77475337,  0.44481159, ...,  0.32744129,\n",
       "        -0.2008884 ,  0.26500877],\n",
       "       [ 1.88625313,  0.70439536, -1.26686964, ..., -0.30137802,\n",
       "        -0.28606647,  0.44216986],\n",
       "       ...,\n",
       "       [ 3.54672586,  2.91263378,  3.23247528, ...,  0.15575389,\n",
       "        -1.57489474, -0.18406814],\n",
       "       [ 0.70135797, -0.82384187, -1.24550862, ..., -0.4039999 ,\n",
       "        -0.11937494,  0.09037878],\n",
       "       [ 2.12471601,  0.83207615, -0.89646279, ..., -0.241056  ,\n",
       "         0.09999622, -0.00401015]])"
      ]
     },
     "execution_count": 91,
     "metadata": {},
     "output_type": "execute_result"
    }
   ],
   "source": [
    "X_projected"
   ]
  },
  {
   "cell_type": "code",
   "execution_count": 92,
   "id": "7c875788",
   "metadata": {},
   "outputs": [
    {
     "data": {
      "text/html": [
       "<div>\n",
       "<style scoped>\n",
       "    .dataframe tbody tr th:only-of-type {\n",
       "        vertical-align: middle;\n",
       "    }\n",
       "\n",
       "    .dataframe tbody tr th {\n",
       "        vertical-align: top;\n",
       "    }\n",
       "\n",
       "    .dataframe thead th {\n",
       "        text-align: right;\n",
       "    }\n",
       "</style>\n",
       "<table border=\"1\" class=\"dataframe\">\n",
       "  <thead>\n",
       "    <tr style=\"text-align: right;\">\n",
       "      <th></th>\n",
       "      <th>F1</th>\n",
       "      <th>F2</th>\n",
       "    </tr>\n",
       "    <tr>\n",
       "      <th>pays</th>\n",
       "      <th></th>\n",
       "      <th></th>\n",
       "    </tr>\n",
       "  </thead>\n",
       "  <tbody>\n",
       "    <tr>\n",
       "      <th>Arménie</th>\n",
       "      <td>0.870323</td>\n",
       "      <td>1.298934</td>\n",
       "    </tr>\n",
       "    <tr>\n",
       "      <th>Afghanistan</th>\n",
       "      <td>-2.731293</td>\n",
       "      <td>0.774753</td>\n",
       "    </tr>\n",
       "    <tr>\n",
       "      <th>Albanie</th>\n",
       "      <td>1.886253</td>\n",
       "      <td>0.704395</td>\n",
       "    </tr>\n",
       "    <tr>\n",
       "      <th>Algérie</th>\n",
       "      <td>0.026967</td>\n",
       "      <td>-1.424626</td>\n",
       "    </tr>\n",
       "    <tr>\n",
       "      <th>Angola</th>\n",
       "      <td>-2.465097</td>\n",
       "      <td>1.651295</td>\n",
       "    </tr>\n",
       "  </tbody>\n",
       "</table>\n",
       "</div>"
      ],
      "text/plain": [
       "                   F1        F2\n",
       "pays                           \n",
       "Arménie      0.870323  1.298934\n",
       "Afghanistan -2.731293  0.774753\n",
       "Albanie      1.886253  0.704395\n",
       "Algérie      0.026967 -1.424626\n",
       "Angola      -2.465097  1.651295"
      ]
     },
     "execution_count": 92,
     "metadata": {},
     "output_type": "execute_result"
    }
   ],
   "source": [
    "#Calcul des composantes principales\n",
    "#Ici seulement F1 et F2 seront utiles à l'interprétation attendue\n",
    "X_projected = pca.transform(X_scaled)\n",
    "\n",
    "df_facto = pd.DataFrame(X_projected, index=df_clus.index, columns=[\"F\" + str(i+1) for i in range(7)]).iloc[:, :2]\n",
    "df_facto.head() #Affichage des 5 premières lignes\n",
    "\n"
   ]
  },
  {
   "cell_type": "code",
   "execution_count": 93,
   "id": "539cf337",
   "metadata": {
    "scrolled": true
   },
   "outputs": [
    {
     "data": {
      "image/png": "[encoded data removed]",
      "text/plain": [
       "<Figure size 1440x1440 with 1 Axes>"
      ]
     },
     "metadata": {},
     "output_type": "display_data"
    }
   ],
   "source": [
    "#pca = decomposition.PCA().fit(X_scaled) #sklearn\n",
    "#X_projected = pca.transform(X_scaled)\n",
    "\n",
    "\n",
    "#Coordonnées factorielles \n",
    "plt.figure(figsize=(20,20))\n",
    "plt.subplot(122)\n",
    "plt.scatter(X_projected[:, 0], X_projected[:, 1], c=km.labels_)\n",
    "plt.xlabel('F{} ({}%)'.format(1, round(100*scree[0],1)))\n",
    "plt.ylabel('F{} ({}%)'.format(2, round(100*scree[1],1)))\n",
    "plt.title(\"Projection en 5 clusters des {} individus sur le 1er plan factoriel\".format(X_projected.shape[0]))\n",
    "\n",
    "plt.savefig(\"exports/projection_clusters.png\")\n",
    "plt.show()"
   ]
  },
  {
   "cell_type": "markdown",
   "id": "d880812f",
   "metadata": {},
   "source": [
    "L'analyse sera plus fine en 5 clusters. De plus, la comparaison sera possible avec les 5 groupes identifiés lors du précédent partitionnement, le contexte nous oriente davantage vers un clustering en 5 partitions.\n",
    "\n",
    "Maintenant, il est nécessaire de caractériser chacun de ces groupes selon nos 8 variables. La position des centroïdes de chacun des groupes indiquera le ou les meilleurs clusters. C'est l'avantage de procéder en K-Means, afin d'obtenir directement des valeurs centrées et réduites, facilitant l'analyse. ⬇️"
   ]
  },
  {
   "cell_type": "code",
   "execution_count": 94,
   "id": "9cb5a935",
   "metadata": {},
   "outputs": [
    {
     "data": {
      "text/html": [
       "<div>\n",
       "<style scoped>\n",
       "    .dataframe tbody tr th:only-of-type {\n",
       "        vertical-align: middle;\n",
       "    }\n",
       "\n",
       "    .dataframe tbody tr th {\n",
       "        vertical-align: top;\n",
       "    }\n",
       "\n",
       "    .dataframe thead th {\n",
       "        text-align: right;\n",
       "    }\n",
       "</style>\n",
       "<table border=\"1\" class=\"dataframe\">\n",
       "  <thead>\n",
       "    <tr style=\"text-align: right;\">\n",
       "      <th>col_0</th>\n",
       "      <th>0</th>\n",
       "      <th>1</th>\n",
       "      <th>2</th>\n",
       "      <th>3</th>\n",
       "      <th>4</th>\n",
       "    </tr>\n",
       "    <tr>\n",
       "      <th>row_0</th>\n",
       "      <th></th>\n",
       "      <th></th>\n",
       "      <th></th>\n",
       "      <th></th>\n",
       "      <th></th>\n",
       "    </tr>\n",
       "  </thead>\n",
       "  <tbody>\n",
       "    <tr>\n",
       "      <th>1</th>\n",
       "      <td>7</td>\n",
       "      <td>0</td>\n",
       "      <td>0</td>\n",
       "      <td>27</td>\n",
       "      <td>0</td>\n",
       "    </tr>\n",
       "    <tr>\n",
       "      <th>2</th>\n",
       "      <td>20</td>\n",
       "      <td>0</td>\n",
       "      <td>0</td>\n",
       "      <td>0</td>\n",
       "      <td>19</td>\n",
       "    </tr>\n",
       "    <tr>\n",
       "      <th>3</th>\n",
       "      <td>0</td>\n",
       "      <td>4</td>\n",
       "      <td>17</td>\n",
       "      <td>0</td>\n",
       "      <td>2</td>\n",
       "    </tr>\n",
       "    <tr>\n",
       "      <th>4</th>\n",
       "      <td>0</td>\n",
       "      <td>18</td>\n",
       "      <td>0</td>\n",
       "      <td>0</td>\n",
       "      <td>7</td>\n",
       "    </tr>\n",
       "    <tr>\n",
       "      <th>5</th>\n",
       "      <td>0</td>\n",
       "      <td>35</td>\n",
       "      <td>0</td>\n",
       "      <td>16</td>\n",
       "      <td>0</td>\n",
       "    </tr>\n",
       "  </tbody>\n",
       "</table>\n",
       "</div>"
      ],
      "text/plain": [
       "col_0   0   1   2   3   4\n",
       "row_0                    \n",
       "1       7   0   0  27   0\n",
       "2      20   0   0   0  19\n",
       "3       0   4  17   0   2\n",
       "4       0  18   0   0   7\n",
       "5       0  35   0  16   0"
      ]
     },
     "execution_count": 94,
     "metadata": {},
     "output_type": "execute_result"
    }
   ],
   "source": [
    "#correspondance avec les groupes de la CAH\n",
    "pd.crosstab(groupe_cah,km.labels_)"
   ]
  },
  {
   "cell_type": "code",
   "execution_count": 95,
   "id": "7ee5440f",
   "metadata": {},
   "outputs": [
    {
     "name": "stdout",
     "output_type": "stream",
     "text": [
      "Clusterkm\n",
      "0    27\n",
      "1    57\n",
      "2    17\n",
      "3    43\n",
      "4    28\n",
      "dtype: int64\n"
     ]
    }
   ],
   "source": [
    "df_groupes_cah['Clusterkm'] = clusters_km\n",
    "gb = df_groupes_cah.groupby('Clusterkm')\n",
    "nk = gb.size()\n",
    "print(nk)\n"
   ]
  },
  {
   "cell_type": "code",
   "execution_count": 96,
   "id": "d5c45199",
   "metadata": {},
   "outputs": [
    {
     "data": {
      "text/html": [
       "<div>\n",
       "<style scoped>\n",
       "    .dataframe tbody tr th:only-of-type {\n",
       "        vertical-align: middle;\n",
       "    }\n",
       "\n",
       "    .dataframe tbody tr th {\n",
       "        vertical-align: top;\n",
       "    }\n",
       "\n",
       "    .dataframe thead th {\n",
       "        text-align: right;\n",
       "    }\n",
       "</style>\n",
       "<table border=\"1\" class=\"dataframe\">\n",
       "  <thead>\n",
       "    <tr style=\"text-align: right;\">\n",
       "      <th></th>\n",
       "      <th>Évolution population (%)</th>\n",
       "      <th>dispo_calories</th>\n",
       "      <th>dispo_proteines</th>\n",
       "      <th>ratio_proteines_animales(%)</th>\n",
       "      <th>PIB_par_habitant</th>\n",
       "      <th>taux_suffisance(٪)</th>\n",
       "      <th>taux_dépendance_importations(٪)</th>\n",
       "      <th>groupe_cah</th>\n",
       "    </tr>\n",
       "    <tr>\n",
       "      <th>Clusterkm</th>\n",
       "      <th></th>\n",
       "      <th></th>\n",
       "      <th></th>\n",
       "      <th></th>\n",
       "      <th></th>\n",
       "      <th></th>\n",
       "      <th></th>\n",
       "      <th></th>\n",
       "    </tr>\n",
       "  </thead>\n",
       "  <tbody>\n",
       "    <tr>\n",
       "      <th>0</th>\n",
       "      <td>21.261852</td>\n",
       "      <td>8.961156e+05</td>\n",
       "      <td>21891.753704</td>\n",
       "      <td>31.355185</td>\n",
       "      <td>2775.389067</td>\n",
       "      <td>23.741124</td>\n",
       "      <td>88.583142</td>\n",
       "      <td>1.740741</td>\n",
       "    </tr>\n",
       "    <tr>\n",
       "      <th>1</th>\n",
       "      <td>5.280000</td>\n",
       "      <td>1.146996e+06</td>\n",
       "      <td>33500.596491</td>\n",
       "      <td>47.905965</td>\n",
       "      <td>12596.803081</td>\n",
       "      <td>102.621295</td>\n",
       "      <td>17.846926</td>\n",
       "      <td>4.543860</td>\n",
       "    </tr>\n",
       "    <tr>\n",
       "      <th>2</th>\n",
       "      <td>9.161765</td>\n",
       "      <td>1.284757e+06</td>\n",
       "      <td>40857.670588</td>\n",
       "      <td>61.890588</td>\n",
       "      <td>63042.315906</td>\n",
       "      <td>92.916905</td>\n",
       "      <td>49.590605</td>\n",
       "      <td>3.000000</td>\n",
       "    </tr>\n",
       "    <tr>\n",
       "      <th>3</th>\n",
       "      <td>19.635581</td>\n",
       "      <td>9.097837e+05</td>\n",
       "      <td>23345.060465</td>\n",
       "      <td>26.194419</td>\n",
       "      <td>2135.812157</td>\n",
       "      <td>94.702523</td>\n",
       "      <td>9.058838</td>\n",
       "      <td>2.488372</td>\n",
       "    </tr>\n",
       "    <tr>\n",
       "      <th>4</th>\n",
       "      <td>5.708214</td>\n",
       "      <td>1.093722e+06</td>\n",
       "      <td>32640.516071</td>\n",
       "      <td>56.101429</td>\n",
       "      <td>16698.691096</td>\n",
       "      <td>24.210179</td>\n",
       "      <td>94.721700</td>\n",
       "      <td>2.571429</td>\n",
       "    </tr>\n",
       "  </tbody>\n",
       "</table>\n",
       "</div>"
      ],
      "text/plain": [
       "           Évolution population (%)  dispo_calories  dispo_proteines  \\\n",
       "Clusterkm                                                              \n",
       "0                         21.261852    8.961156e+05     21891.753704   \n",
       "1                          5.280000    1.146996e+06     33500.596491   \n",
       "2                          9.161765    1.284757e+06     40857.670588   \n",
       "3                         19.635581    9.097837e+05     23345.060465   \n",
       "4                          5.708214    1.093722e+06     32640.516071   \n",
       "\n",
       "           ratio_proteines_animales(%)  PIB_par_habitant  taux_suffisance(٪)  \\\n",
       "Clusterkm                                                                      \n",
       "0                            31.355185       2775.389067           23.741124   \n",
       "1                            47.905965      12596.803081          102.621295   \n",
       "2                            61.890588      63042.315906           92.916905   \n",
       "3                            26.194419       2135.812157           94.702523   \n",
       "4                            56.101429      16698.691096           24.210179   \n",
       "\n",
       "           taux_dépendance_importations(٪)  groupe_cah  \n",
       "Clusterkm                                               \n",
       "0                                88.583142    1.740741  \n",
       "1                                17.846926    4.543860  \n",
       "2                                49.590605    3.000000  \n",
       "3                                 9.058838    2.488372  \n",
       "4                                94.721700    2.571429  "
      ]
     },
     "execution_count": 96,
     "metadata": {},
     "output_type": "execute_result"
    }
   ],
   "source": [
    "\n",
    "\n",
    "# Moyennes conditionnelles\n",
    "mk = gb.mean()\n",
    "mk"
   ]
  },
  {
   "cell_type": "code",
   "execution_count": 97,
   "id": "3d493c82",
   "metadata": {},
   "outputs": [
    {
     "data": {
      "text/html": [
       "<div>\n",
       "<style scoped>\n",
       "    .dataframe tbody tr th:only-of-type {\n",
       "        vertical-align: middle;\n",
       "    }\n",
       "\n",
       "    .dataframe tbody tr th {\n",
       "        vertical-align: top;\n",
       "    }\n",
       "\n",
       "    .dataframe thead th {\n",
       "        text-align: right;\n",
       "    }\n",
       "</style>\n",
       "<table border=\"1\" class=\"dataframe\">\n",
       "  <thead>\n",
       "    <tr style=\"text-align: right;\">\n",
       "      <th></th>\n",
       "      <th>pays</th>\n",
       "      <th>Évolution population (%)</th>\n",
       "      <th>dispo_calories</th>\n",
       "      <th>dispo_proteines</th>\n",
       "      <th>ratio_proteines_animales(%)</th>\n",
       "      <th>PIB_par_habitant</th>\n",
       "      <th>taux_suffisance(٪)</th>\n",
       "      <th>taux_dépendance_importations(٪)</th>\n",
       "      <th>groupe_cah</th>\n",
       "      <th>Clusterkm</th>\n",
       "      <th>F1</th>\n",
       "      <th>F2</th>\n",
       "    </tr>\n",
       "  </thead>\n",
       "  <tbody>\n",
       "    <tr>\n",
       "      <th>68</th>\n",
       "      <td>Iraq</td>\n",
       "      <td>26.30</td>\n",
       "      <td>954475.0</td>\n",
       "      <td>23641.05</td>\n",
       "      <td>19.27</td>\n",
       "      <td>5729.677358</td>\n",
       "      <td>49.029126</td>\n",
       "      <td>52.427184</td>\n",
       "      <td>1</td>\n",
       "      <td>0</td>\n",
       "      <td>-2.069633</td>\n",
       "      <td>0.434334</td>\n",
       "    </tr>\n",
       "    <tr>\n",
       "      <th>96</th>\n",
       "      <td>Mauritanie</td>\n",
       "      <td>25.02</td>\n",
       "      <td>1049375.0</td>\n",
       "      <td>30265.80</td>\n",
       "      <td>37.69</td>\n",
       "      <td>1677.917728</td>\n",
       "      <td>16.666667</td>\n",
       "      <td>103.333333</td>\n",
       "      <td>2</td>\n",
       "      <td>0</td>\n",
       "      <td>-0.891837</td>\n",
       "      <td>1.827842</td>\n",
       "    </tr>\n",
       "    <tr>\n",
       "      <th>52</th>\n",
       "      <td>Ghana</td>\n",
       "      <td>20.54</td>\n",
       "      <td>1136610.0</td>\n",
       "      <td>22542.40</td>\n",
       "      <td>23.66</td>\n",
       "      <td>2202.629207</td>\n",
       "      <td>30.136986</td>\n",
       "      <td>69.863014</td>\n",
       "      <td>2</td>\n",
       "      <td>0</td>\n",
       "      <td>-1.392786</td>\n",
       "      <td>0.862234</td>\n",
       "    </tr>\n",
       "    <tr>\n",
       "      <th>131</th>\n",
       "      <td>Sao Tomé-et-Principe</td>\n",
       "      <td>18.22</td>\n",
       "      <td>876730.0</td>\n",
       "      <td>19914.40</td>\n",
       "      <td>32.53</td>\n",
       "      <td>1961.245810</td>\n",
       "      <td>33.333333</td>\n",
       "      <td>100.000000</td>\n",
       "      <td>2</td>\n",
       "      <td>0</td>\n",
       "      <td>-1.960511</td>\n",
       "      <td>1.540362</td>\n",
       "    </tr>\n",
       "    <tr>\n",
       "      <th>57</th>\n",
       "      <td>Guinée</td>\n",
       "      <td>21.98</td>\n",
       "      <td>1039885.0</td>\n",
       "      <td>20983.85</td>\n",
       "      <td>20.61</td>\n",
       "      <td>967.360684</td>\n",
       "      <td>31.428571</td>\n",
       "      <td>114.285714</td>\n",
       "      <td>2</td>\n",
       "      <td>0</td>\n",
       "      <td>-1.892117</td>\n",
       "      <td>1.594341</td>\n",
       "    </tr>\n",
       "  </tbody>\n",
       "</table>\n",
       "</div>"
      ],
      "text/plain": [
       "                     pays  Évolution population (%)  dispo_calories  \\\n",
       "68                   Iraq                     26.30        954475.0   \n",
       "96             Mauritanie                     25.02       1049375.0   \n",
       "52                  Ghana                     20.54       1136610.0   \n",
       "131  Sao Tomé-et-Principe                     18.22        876730.0   \n",
       "57                 Guinée                     21.98       1039885.0   \n",
       "\n",
       "     dispo_proteines  ratio_proteines_animales(%)  PIB_par_habitant  \\\n",
       "68          23641.05                        19.27       5729.677358   \n",
       "96          30265.80                        37.69       1677.917728   \n",
       "52          22542.40                        23.66       2202.629207   \n",
       "131         19914.40                        32.53       1961.245810   \n",
       "57          20983.85                        20.61        967.360684   \n",
       "\n",
       "     taux_suffisance(٪)  taux_dépendance_importations(٪)  groupe_cah  \\\n",
       "68            49.029126                        52.427184           1   \n",
       "96            16.666667                       103.333333           2   \n",
       "52            30.136986                        69.863014           2   \n",
       "131           33.333333                       100.000000           2   \n",
       "57            31.428571                       114.285714           2   \n",
       "\n",
       "     Clusterkm        F1        F2  \n",
       "68           0 -2.069633  0.434334  \n",
       "96           0 -0.891837  1.827842  \n",
       "52           0 -1.392786  0.862234  \n",
       "131          0 -1.960511  1.540362  \n",
       "57           0 -1.892117  1.594341  "
      ]
     },
     "execution_count": 97,
     "metadata": {},
     "output_type": "execute_result"
    }
   ],
   "source": [
    "# Ajout des variables synthétiques F1 et F2\n",
    "df_boxkm = pd.merge(df_groupes_cah, df_facto, on=\"pays\", how=\"left\")\n",
    "df_boxkm = df_boxkm.sort_values(\"Clusterkm\")\n",
    "df_boxkm.head()"
   ]
  },
  {
   "cell_type": "code",
   "execution_count": 98,
   "id": "3a97217d",
   "metadata": {},
   "outputs": [],
   "source": [
    "def boxplot_cluster_km(var):\n",
    "    data_boxplot = []\n",
    "    groupes_pays = df_boxkm[\"Clusterkm\"].unique()\n",
    "    \n",
    "    for groupe in groupes_pays :\n",
    "        subset = df_boxkm[df_boxkm.Clusterkm == groupe]\n",
    "        data_boxplot.append(subset[var])\n",
    "\n",
    "    fig, ax1 = plt.subplots(figsize=(12, 8))\n",
    "    fig.subplots_adjust(left=0.075, right=0.95, top=0.9, bottom=0.25)\n",
    "\n",
    "    bp = ax1.boxplot(data_boxplot, notch=0, vert=1, whis=1.5, labels=[\"0\", \"1\", \"2\", \"3\", \"4\"])\n",
    "\n",
    "    ax1.yaxis.grid(True, linestyle='-', which='major', color='lightgrey',\n",
    "               alpha=0.4)\n",
    "    ax1.set_axisbelow(True)\n",
    "    ax1.set_title((\"Distribution de \" + var +\" par Cluster Kmeans\"), fontsize=22)\n",
    "    ax1.set_ylabel(var)\n",
    "    ax1.set_xlabel(\"Cluster\")\n",
    "    ax1.set_xlim(0, len(data_boxplot) + 0.5)\n",
    "\n",
    "    plt.show()"
   ]
  },
  {
   "cell_type": "code",
   "execution_count": 99,
   "id": "e7ef0a63",
   "metadata": {},
   "outputs": [
    {
     "data": {
      "image/png": "[encoded data removed]",
      "text/plain": [
       "<Figure size 864x576 with 1 Axes>"
      ]
     },
     "metadata": {},
     "output_type": "display_data"
    }
   ],
   "source": [
    "boxplot_cluster_km('Évolution population (%)')"
   ]
  },
  {
   "cell_type": "code",
   "execution_count": 100,
   "id": "e268c691",
   "metadata": {},
   "outputs": [
    {
     "data": {
      "image/png": "[encoded data removed]",
      "text/plain": [
       "<Figure size 864x576 with 1 Axes>"
      ]
     },
     "metadata": {},
     "output_type": "display_data"
    }
   ],
   "source": [
    "boxplot_cluster_km('dispo_calories')\n",
    "\n"
   ]
  },
  {
   "cell_type": "code",
   "execution_count": 101,
   "id": "13f8cbbe",
   "metadata": {},
   "outputs": [
    {
     "data": {
      "image/png": "[encoded data removed]",
      "text/plain": [
       "<Figure size 864x576 with 1 Axes>"
      ]
     },
     "metadata": {},
     "output_type": "display_data"
    }
   ],
   "source": [
    "boxplot_cluster_km('dispo_proteines')\n"
   ]
  },
  {
   "cell_type": "code",
   "execution_count": 102,
   "id": "9899f437",
   "metadata": {},
   "outputs": [
    {
     "data": {
      "image/png": "[encoded data removed]",
      "text/plain": [
       "<Figure size 864x576 with 1 Axes>"
      ]
     },
     "metadata": {},
     "output_type": "display_data"
    }
   ],
   "source": [
    "boxplot_cluster_km('ratio_proteines_animales(%)')\n"
   ]
  },
  {
   "cell_type": "code",
   "execution_count": 103,
   "id": "9ec0f723",
   "metadata": {},
   "outputs": [
    {
     "data": {
      "image/png": "[encoded data removed]",
      "text/plain": [
       "<Figure size 864x576 with 1 Axes>"
      ]
     },
     "metadata": {},
     "output_type": "display_data"
    }
   ],
   "source": [
    "boxplot_cluster_km('PIB_par_habitant')\n"
   ]
  },
  {
   "cell_type": "code",
   "execution_count": 104,
   "id": "3f18038f",
   "metadata": {},
   "outputs": [
    {
     "data": {
      "image/png": "[encoded data removed]",
      "text/plain": [
       "<Figure size 864x576 with 1 Axes>"
      ]
     },
     "metadata": {},
     "output_type": "display_data"
    }
   ],
   "source": [
    "boxplot_cluster_km('taux_suffisance(٪)')\n"
   ]
  },
  {
   "cell_type": "code",
   "execution_count": 105,
   "id": "f0be8a0a",
   "metadata": {},
   "outputs": [
    {
     "data": {
      "image/png": "[encoded data removed]",
      "text/plain": [
       "<Figure size 864x576 with 1 Axes>"
      ]
     },
     "metadata": {},
     "output_type": "display_data"
    }
   ],
   "source": [
    "boxplot_cluster_km('taux_dépendance_importations(٪)')\n"
   ]
  },
  {
   "cell_type": "code",
   "execution_count": 106,
   "id": "5d063162",
   "metadata": {},
   "outputs": [
    {
     "data": {
      "image/png": "[encoded data removed]",
      "text/plain": [
       "<Figure size 864x576 with 1 Axes>"
      ]
     },
     "metadata": {},
     "output_type": "display_data"
    }
   ],
   "source": [
    "boxplot_cluster_km('F1')\n"
   ]
  },
  {
   "cell_type": "code",
   "execution_count": 107,
   "id": "37a1fbc5",
   "metadata": {},
   "outputs": [
    {
     "data": {
      "image/png": "[encoded data removed]",
      "text/plain": [
       "<Figure size 864x576 with 1 Axes>"
      ]
     },
     "metadata": {},
     "output_type": "display_data"
    }
   ],
   "source": [
    "boxplot_cluster_km('F2')\n"
   ]
  },
  {
   "cell_type": "markdown",
   "id": "a0493b4a",
   "metadata": {},
   "source": [
    "# Sélections des pays sur groupes Kmeans.\n"
   ]
  },
  {
   "cell_type": "code",
   "execution_count": 108,
   "id": "7757b3df",
   "metadata": {},
   "outputs": [
    {
     "data": {
      "text/plain": [
       "array([0, 2, 4], dtype=int32)"
      ]
     },
     "execution_count": 108,
     "metadata": {},
     "output_type": "execute_result"
    }
   ],
   "source": [
    "select_clusters_kmeans = df_boxkm.groupby(\"Clusterkm\").mean().reset_index()\n",
    "select_clusters_kmeans = df_boxkm[df_boxkm[\"F2\"]>1][\"Clusterkm\"].unique()\n",
    "select_clusters_kmeans"
   ]
  },
  {
   "cell_type": "code",
   "execution_count": 109,
   "id": "750c13e0",
   "metadata": {},
   "outputs": [
    {
     "data": {
      "text/html": [
       "<div>\n",
       "<style scoped>\n",
       "    .dataframe tbody tr th:only-of-type {\n",
       "        vertical-align: middle;\n",
       "    }\n",
       "\n",
       "    .dataframe tbody tr th {\n",
       "        vertical-align: top;\n",
       "    }\n",
       "\n",
       "    .dataframe thead th {\n",
       "        text-align: right;\n",
       "    }\n",
       "</style>\n",
       "<table border=\"1\" class=\"dataframe\">\n",
       "  <thead>\n",
       "    <tr style=\"text-align: right;\">\n",
       "      <th></th>\n",
       "      <th>pays</th>\n",
       "      <th>Évolution population (%)</th>\n",
       "      <th>dispo_calories</th>\n",
       "      <th>dispo_proteines</th>\n",
       "      <th>ratio_proteines_animales(%)</th>\n",
       "      <th>PIB_par_habitant</th>\n",
       "      <th>taux_suffisance(٪)</th>\n",
       "      <th>taux_dépendance_importations(٪)</th>\n",
       "      <th>groupe_cah</th>\n",
       "      <th>Clusterkm</th>\n",
       "      <th>F1</th>\n",
       "      <th>F2</th>\n",
       "    </tr>\n",
       "  </thead>\n",
       "  <tbody>\n",
       "    <tr>\n",
       "      <th>68</th>\n",
       "      <td>Iraq</td>\n",
       "      <td>26.30</td>\n",
       "      <td>954475.0</td>\n",
       "      <td>23641.05</td>\n",
       "      <td>19.27</td>\n",
       "      <td>5729.677358</td>\n",
       "      <td>49.029126</td>\n",
       "      <td>52.427184</td>\n",
       "      <td>1</td>\n",
       "      <td>0</td>\n",
       "      <td>-2.069633</td>\n",
       "      <td>0.434334</td>\n",
       "    </tr>\n",
       "    <tr>\n",
       "      <th>96</th>\n",
       "      <td>Mauritanie</td>\n",
       "      <td>25.02</td>\n",
       "      <td>1049375.0</td>\n",
       "      <td>30265.80</td>\n",
       "      <td>37.69</td>\n",
       "      <td>1677.917728</td>\n",
       "      <td>16.666667</td>\n",
       "      <td>103.333333</td>\n",
       "      <td>2</td>\n",
       "      <td>0</td>\n",
       "      <td>-0.891837</td>\n",
       "      <td>1.827842</td>\n",
       "    </tr>\n",
       "    <tr>\n",
       "      <th>52</th>\n",
       "      <td>Ghana</td>\n",
       "      <td>20.54</td>\n",
       "      <td>1136610.0</td>\n",
       "      <td>22542.40</td>\n",
       "      <td>23.66</td>\n",
       "      <td>2202.629207</td>\n",
       "      <td>30.136986</td>\n",
       "      <td>69.863014</td>\n",
       "      <td>2</td>\n",
       "      <td>0</td>\n",
       "      <td>-1.392786</td>\n",
       "      <td>0.862234</td>\n",
       "    </tr>\n",
       "    <tr>\n",
       "      <th>131</th>\n",
       "      <td>Sao Tomé-et-Principe</td>\n",
       "      <td>18.22</td>\n",
       "      <td>876730.0</td>\n",
       "      <td>19914.40</td>\n",
       "      <td>32.53</td>\n",
       "      <td>1961.245810</td>\n",
       "      <td>33.333333</td>\n",
       "      <td>100.000000</td>\n",
       "      <td>2</td>\n",
       "      <td>0</td>\n",
       "      <td>-1.960511</td>\n",
       "      <td>1.540362</td>\n",
       "    </tr>\n",
       "    <tr>\n",
       "      <th>57</th>\n",
       "      <td>Guinée</td>\n",
       "      <td>21.98</td>\n",
       "      <td>1039885.0</td>\n",
       "      <td>20983.85</td>\n",
       "      <td>20.61</td>\n",
       "      <td>967.360684</td>\n",
       "      <td>31.428571</td>\n",
       "      <td>114.285714</td>\n",
       "      <td>2</td>\n",
       "      <td>0</td>\n",
       "      <td>-1.892117</td>\n",
       "      <td>1.594341</td>\n",
       "    </tr>\n",
       "    <tr>\n",
       "      <th>...</th>\n",
       "      <td>...</td>\n",
       "      <td>...</td>\n",
       "      <td>...</td>\n",
       "      <td>...</td>\n",
       "      <td>...</td>\n",
       "      <td>...</td>\n",
       "      <td>...</td>\n",
       "      <td>...</td>\n",
       "      <td>...</td>\n",
       "      <td>...</td>\n",
       "      <td>...</td>\n",
       "      <td>...</td>\n",
       "    </tr>\n",
       "    <tr>\n",
       "      <th>129</th>\n",
       "      <td>Sainte-Lucie</td>\n",
       "      <td>5.78</td>\n",
       "      <td>961045.0</td>\n",
       "      <td>30769.50</td>\n",
       "      <td>58.20</td>\n",
       "      <td>11611.422134</td>\n",
       "      <td>16.666667</td>\n",
       "      <td>83.333333</td>\n",
       "      <td>2</td>\n",
       "      <td>4</td>\n",
       "      <td>0.296498</td>\n",
       "      <td>1.667130</td>\n",
       "    </tr>\n",
       "    <tr>\n",
       "      <th>130</th>\n",
       "      <td>Saint-Vincent-et-les Grenadines</td>\n",
       "      <td>2.08</td>\n",
       "      <td>1076385.0</td>\n",
       "      <td>33382.90</td>\n",
       "      <td>56.93</td>\n",
       "      <td>7463.537831</td>\n",
       "      <td>0.000000</td>\n",
       "      <td>88.888889</td>\n",
       "      <td>2</td>\n",
       "      <td>4</td>\n",
       "      <td>0.772292</td>\n",
       "      <td>1.842429</td>\n",
       "    </tr>\n",
       "    <tr>\n",
       "      <th>134</th>\n",
       "      <td>Seychelles</td>\n",
       "      <td>7.10</td>\n",
       "      <td>1139895.0</td>\n",
       "      <td>34967.00</td>\n",
       "      <td>52.90</td>\n",
       "      <td>17381.651083</td>\n",
       "      <td>25.000000</td>\n",
       "      <td>75.000000</td>\n",
       "      <td>2</td>\n",
       "      <td>4</td>\n",
       "      <td>1.030566</td>\n",
       "      <td>1.284307</td>\n",
       "    </tr>\n",
       "    <tr>\n",
       "      <th>61</th>\n",
       "      <td>Chine - RAS de Hong-Kong</td>\n",
       "      <td>6.88</td>\n",
       "      <td>1181140.0</td>\n",
       "      <td>47249.25</td>\n",
       "      <td>74.66</td>\n",
       "      <td>49180.094302</td>\n",
       "      <td>4.318182</td>\n",
       "      <td>175.681818</td>\n",
       "      <td>3</td>\n",
       "      <td>4</td>\n",
       "      <td>3.296647</td>\n",
       "      <td>3.635805</td>\n",
       "    </tr>\n",
       "    <tr>\n",
       "      <th>171</th>\n",
       "      <td>Monténégro</td>\n",
       "      <td>0.80</td>\n",
       "      <td>1284800.0</td>\n",
       "      <td>40876.35</td>\n",
       "      <td>60.25</td>\n",
       "      <td>8825.344514</td>\n",
       "      <td>40.000000</td>\n",
       "      <td>70.000000</td>\n",
       "      <td>4</td>\n",
       "      <td>4</td>\n",
       "      <td>2.124716</td>\n",
       "      <td>0.832076</td>\n",
       "    </tr>\n",
       "  </tbody>\n",
       "</table>\n",
       "<p>72 rows × 12 columns</p>\n",
       "</div>"
      ],
      "text/plain": [
       "                                pays  Évolution population (%)  \\\n",
       "68                              Iraq                     26.30   \n",
       "96                        Mauritanie                     25.02   \n",
       "52                             Ghana                     20.54   \n",
       "131             Sao Tomé-et-Principe                     18.22   \n",
       "57                            Guinée                     21.98   \n",
       "..                               ...                       ...   \n",
       "129                     Sainte-Lucie                      5.78   \n",
       "130  Saint-Vincent-et-les Grenadines                      2.08   \n",
       "134                       Seychelles                      7.10   \n",
       "61          Chine - RAS de Hong-Kong                      6.88   \n",
       "171                       Monténégro                      0.80   \n",
       "\n",
       "     dispo_calories  dispo_proteines  ratio_proteines_animales(%)  \\\n",
       "68         954475.0         23641.05                        19.27   \n",
       "96        1049375.0         30265.80                        37.69   \n",
       "52        1136610.0         22542.40                        23.66   \n",
       "131        876730.0         19914.40                        32.53   \n",
       "57        1039885.0         20983.85                        20.61   \n",
       "..              ...              ...                          ...   \n",
       "129        961045.0         30769.50                        58.20   \n",
       "130       1076385.0         33382.90                        56.93   \n",
       "134       1139895.0         34967.00                        52.90   \n",
       "61        1181140.0         47249.25                        74.66   \n",
       "171       1284800.0         40876.35                        60.25   \n",
       "\n",
       "     PIB_par_habitant  taux_suffisance(٪)  taux_dépendance_importations(٪)  \\\n",
       "68        5729.677358           49.029126                        52.427184   \n",
       "96        1677.917728           16.666667                       103.333333   \n",
       "52        2202.629207           30.136986                        69.863014   \n",
       "131       1961.245810           33.333333                       100.000000   \n",
       "57         967.360684           31.428571                       114.285714   \n",
       "..                ...                 ...                              ...   \n",
       "129      11611.422134           16.666667                        83.333333   \n",
       "130       7463.537831            0.000000                        88.888889   \n",
       "134      17381.651083           25.000000                        75.000000   \n",
       "61       49180.094302            4.318182                       175.681818   \n",
       "171       8825.344514           40.000000                        70.000000   \n",
       "\n",
       "     groupe_cah  Clusterkm        F1        F2  \n",
       "68            1          0 -2.069633  0.434334  \n",
       "96            2          0 -0.891837  1.827842  \n",
       "52            2          0 -1.392786  0.862234  \n",
       "131           2          0 -1.960511  1.540362  \n",
       "57            2          0 -1.892117  1.594341  \n",
       "..          ...        ...       ...       ...  \n",
       "129           2          4  0.296498  1.667130  \n",
       "130           2          4  0.772292  1.842429  \n",
       "134           2          4  1.030566  1.284307  \n",
       "61            3          4  3.296647  3.635805  \n",
       "171           4          4  2.124716  0.832076  \n",
       "\n",
       "[72 rows x 12 columns]"
      ]
     },
     "execution_count": 109,
     "metadata": {},
     "output_type": "execute_result"
    }
   ],
   "source": [
    "df_select_pays_kmeans = df_boxkm[df_boxkm[\"Clusterkm\"].isin(select_clusters_kmeans)]\n",
    "df_select_pays_kmeans"
   ]
  },
  {
   "cell_type": "code",
   "execution_count": 110,
   "id": "87d741f8",
   "metadata": {},
   "outputs": [
    {
     "data": {
      "text/plain": [
       "(72, 12)"
      ]
     },
     "execution_count": 110,
     "metadata": {},
     "output_type": "execute_result"
    }
   ],
   "source": [
    "df_select_pays_kmeans.shape"
   ]
  },
  {
   "cell_type": "code",
   "execution_count": 111,
   "id": "b63f29c6",
   "metadata": {},
   "outputs": [
    {
     "data": {
      "text/html": [
       "<div>\n",
       "<style scoped>\n",
       "    .dataframe tbody tr th:only-of-type {\n",
       "        vertical-align: middle;\n",
       "    }\n",
       "\n",
       "    .dataframe tbody tr th {\n",
       "        vertical-align: top;\n",
       "    }\n",
       "\n",
       "    .dataframe thead th {\n",
       "        text-align: right;\n",
       "    }\n",
       "</style>\n",
       "<table border=\"1\" class=\"dataframe\">\n",
       "  <thead>\n",
       "    <tr style=\"text-align: right;\">\n",
       "      <th></th>\n",
       "      <th>pays</th>\n",
       "      <th>groupe_cah</th>\n",
       "      <th>Clusterkm</th>\n",
       "    </tr>\n",
       "  </thead>\n",
       "  <tbody>\n",
       "    <tr>\n",
       "      <th>0</th>\n",
       "      <td>Arménie</td>\n",
       "      <td>2.0</td>\n",
       "      <td>4.0</td>\n",
       "    </tr>\n",
       "    <tr>\n",
       "      <th>1</th>\n",
       "      <td>Angola</td>\n",
       "      <td>2.0</td>\n",
       "      <td>0.0</td>\n",
       "    </tr>\n",
       "    <tr>\n",
       "      <th>2</th>\n",
       "      <td>Antigua-et-Barbuda</td>\n",
       "      <td>2.0</td>\n",
       "      <td>4.0</td>\n",
       "    </tr>\n",
       "    <tr>\n",
       "      <th>3</th>\n",
       "      <td>Australie</td>\n",
       "      <td>3.0</td>\n",
       "      <td>2.0</td>\n",
       "    </tr>\n",
       "    <tr>\n",
       "      <th>4</th>\n",
       "      <td>Autriche</td>\n",
       "      <td>3.0</td>\n",
       "      <td>2.0</td>\n",
       "    </tr>\n",
       "    <tr>\n",
       "      <th>...</th>\n",
       "      <td>...</td>\n",
       "      <td>...</td>\n",
       "      <td>...</td>\n",
       "    </tr>\n",
       "    <tr>\n",
       "      <th>71</th>\n",
       "      <td>Bulgarie</td>\n",
       "      <td>NaN</td>\n",
       "      <td>4.0</td>\n",
       "    </tr>\n",
       "    <tr>\n",
       "      <th>72</th>\n",
       "      <td>Estonie</td>\n",
       "      <td>NaN</td>\n",
       "      <td>4.0</td>\n",
       "    </tr>\n",
       "    <tr>\n",
       "      <th>73</th>\n",
       "      <td>Géorgie</td>\n",
       "      <td>NaN</td>\n",
       "      <td>4.0</td>\n",
       "    </tr>\n",
       "    <tr>\n",
       "      <th>74</th>\n",
       "      <td>Lettonie</td>\n",
       "      <td>NaN</td>\n",
       "      <td>4.0</td>\n",
       "    </tr>\n",
       "    <tr>\n",
       "      <th>75</th>\n",
       "      <td>Monténégro</td>\n",
       "      <td>NaN</td>\n",
       "      <td>4.0</td>\n",
       "    </tr>\n",
       "  </tbody>\n",
       "</table>\n",
       "<p>76 rows × 3 columns</p>\n",
       "</div>"
      ],
      "text/plain": [
       "                  pays  groupe_cah  Clusterkm\n",
       "0              Arménie         2.0        4.0\n",
       "1               Angola         2.0        0.0\n",
       "2   Antigua-et-Barbuda         2.0        4.0\n",
       "3            Australie         3.0        2.0\n",
       "4             Autriche         3.0        2.0\n",
       "..                 ...         ...        ...\n",
       "71            Bulgarie         NaN        4.0\n",
       "72             Estonie         NaN        4.0\n",
       "73             Géorgie         NaN        4.0\n",
       "74            Lettonie         NaN        4.0\n",
       "75          Monténégro         NaN        4.0\n",
       "\n",
       "[76 rows x 3 columns]"
      ]
     },
     "execution_count": 111,
     "metadata": {},
     "output_type": "execute_result"
    }
   ],
   "source": [
    "df_compare_1 = pd.merge(df_select_pays_cah[['pays','groupe_cah']], df_select_pays_kmeans[['pays','Clusterkm']],\n",
    "                     on='pays', how='outer')\n",
    "df_compare_1"
   ]
  },
  {
   "cell_type": "code",
   "execution_count": 112,
   "id": "8d95e647",
   "metadata": {},
   "outputs": [
    {
     "data": {
      "text/html": [
       "<div>\n",
       "<style scoped>\n",
       "    .dataframe tbody tr th:only-of-type {\n",
       "        vertical-align: middle;\n",
       "    }\n",
       "\n",
       "    .dataframe tbody tr th {\n",
       "        vertical-align: top;\n",
       "    }\n",
       "\n",
       "    .dataframe thead th {\n",
       "        text-align: right;\n",
       "    }\n",
       "</style>\n",
       "<table border=\"1\" class=\"dataframe\">\n",
       "  <thead>\n",
       "    <tr style=\"text-align: right;\">\n",
       "      <th></th>\n",
       "      <th>pays</th>\n",
       "      <th>groupe_cah</th>\n",
       "      <th>Clusterkm</th>\n",
       "    </tr>\n",
       "  </thead>\n",
       "  <tbody>\n",
       "    <tr>\n",
       "      <th>0</th>\n",
       "      <td>Arménie</td>\n",
       "      <td>2.0</td>\n",
       "      <td>4.0</td>\n",
       "    </tr>\n",
       "    <tr>\n",
       "      <th>1</th>\n",
       "      <td>Angola</td>\n",
       "      <td>2.0</td>\n",
       "      <td>0.0</td>\n",
       "    </tr>\n",
       "    <tr>\n",
       "      <th>2</th>\n",
       "      <td>Antigua-et-Barbuda</td>\n",
       "      <td>2.0</td>\n",
       "      <td>4.0</td>\n",
       "    </tr>\n",
       "    <tr>\n",
       "      <th>3</th>\n",
       "      <td>Australie</td>\n",
       "      <td>3.0</td>\n",
       "      <td>2.0</td>\n",
       "    </tr>\n",
       "    <tr>\n",
       "      <th>4</th>\n",
       "      <td>Autriche</td>\n",
       "      <td>3.0</td>\n",
       "      <td>2.0</td>\n",
       "    </tr>\n",
       "    <tr>\n",
       "      <th>5</th>\n",
       "      <td>Bahamas</td>\n",
       "      <td>2.0</td>\n",
       "      <td>4.0</td>\n",
       "    </tr>\n",
       "    <tr>\n",
       "      <th>6</th>\n",
       "      <td>Botswana</td>\n",
       "      <td>2.0</td>\n",
       "      <td>0.0</td>\n",
       "    </tr>\n",
       "    <tr>\n",
       "      <th>7</th>\n",
       "      <td>Îles Salomon</td>\n",
       "      <td>2.0</td>\n",
       "      <td>0.0</td>\n",
       "    </tr>\n",
       "    <tr>\n",
       "      <th>8</th>\n",
       "      <td>Canada</td>\n",
       "      <td>3.0</td>\n",
       "      <td>2.0</td>\n",
       "    </tr>\n",
       "    <tr>\n",
       "      <th>9</th>\n",
       "      <td>Cabo Verde</td>\n",
       "      <td>2.0</td>\n",
       "      <td>0.0</td>\n",
       "    </tr>\n",
       "    <tr>\n",
       "      <th>10</th>\n",
       "      <td>Congo</td>\n",
       "      <td>2.0</td>\n",
       "      <td>0.0</td>\n",
       "    </tr>\n",
       "    <tr>\n",
       "      <th>11</th>\n",
       "      <td>Cuba</td>\n",
       "      <td>2.0</td>\n",
       "      <td>4.0</td>\n",
       "    </tr>\n",
       "    <tr>\n",
       "      <th>12</th>\n",
       "      <td>Bénin</td>\n",
       "      <td>2.0</td>\n",
       "      <td>0.0</td>\n",
       "    </tr>\n",
       "    <tr>\n",
       "      <th>13</th>\n",
       "      <td>Danemark</td>\n",
       "      <td>3.0</td>\n",
       "      <td>2.0</td>\n",
       "    </tr>\n",
       "    <tr>\n",
       "      <th>14</th>\n",
       "      <td>Dominique</td>\n",
       "      <td>2.0</td>\n",
       "      <td>4.0</td>\n",
       "    </tr>\n",
       "    <tr>\n",
       "      <th>15</th>\n",
       "      <td>Finlande</td>\n",
       "      <td>3.0</td>\n",
       "      <td>2.0</td>\n",
       "    </tr>\n",
       "    <tr>\n",
       "      <th>16</th>\n",
       "      <td>Polynésie française</td>\n",
       "      <td>2.0</td>\n",
       "      <td>4.0</td>\n",
       "    </tr>\n",
       "    <tr>\n",
       "      <th>17</th>\n",
       "      <td>Gabon</td>\n",
       "      <td>2.0</td>\n",
       "      <td>0.0</td>\n",
       "    </tr>\n",
       "    <tr>\n",
       "      <th>18</th>\n",
       "      <td>Gambie</td>\n",
       "      <td>2.0</td>\n",
       "      <td>0.0</td>\n",
       "    </tr>\n",
       "    <tr>\n",
       "      <th>19</th>\n",
       "      <td>Allemagne</td>\n",
       "      <td>3.0</td>\n",
       "      <td>2.0</td>\n",
       "    </tr>\n",
       "    <tr>\n",
       "      <th>20</th>\n",
       "      <td>Ghana</td>\n",
       "      <td>2.0</td>\n",
       "      <td>0.0</td>\n",
       "    </tr>\n",
       "    <tr>\n",
       "      <th>21</th>\n",
       "      <td>Kiribati</td>\n",
       "      <td>2.0</td>\n",
       "      <td>4.0</td>\n",
       "    </tr>\n",
       "    <tr>\n",
       "      <th>22</th>\n",
       "      <td>Grenade</td>\n",
       "      <td>2.0</td>\n",
       "      <td>4.0</td>\n",
       "    </tr>\n",
       "    <tr>\n",
       "      <th>23</th>\n",
       "      <td>Guinée</td>\n",
       "      <td>2.0</td>\n",
       "      <td>0.0</td>\n",
       "    </tr>\n",
       "    <tr>\n",
       "      <th>24</th>\n",
       "      <td>Haïti</td>\n",
       "      <td>2.0</td>\n",
       "      <td>0.0</td>\n",
       "    </tr>\n",
       "    <tr>\n",
       "      <th>25</th>\n",
       "      <td>Chine - RAS de Hong-Kong</td>\n",
       "      <td>3.0</td>\n",
       "      <td>4.0</td>\n",
       "    </tr>\n",
       "    <tr>\n",
       "      <th>26</th>\n",
       "      <td>Islande</td>\n",
       "      <td>3.0</td>\n",
       "      <td>2.0</td>\n",
       "    </tr>\n",
       "    <tr>\n",
       "      <th>27</th>\n",
       "      <td>Irlande</td>\n",
       "      <td>3.0</td>\n",
       "      <td>2.0</td>\n",
       "    </tr>\n",
       "    <tr>\n",
       "      <th>28</th>\n",
       "      <td>Israël</td>\n",
       "      <td>3.0</td>\n",
       "      <td>2.0</td>\n",
       "    </tr>\n",
       "    <tr>\n",
       "      <th>30</th>\n",
       "      <td>Kirghizistan</td>\n",
       "      <td>2.0</td>\n",
       "      <td>0.0</td>\n",
       "    </tr>\n",
       "    <tr>\n",
       "      <th>32</th>\n",
       "      <td>Koweït</td>\n",
       "      <td>2.0</td>\n",
       "      <td>4.0</td>\n",
       "    </tr>\n",
       "    <tr>\n",
       "      <th>33</th>\n",
       "      <td>Lesotho</td>\n",
       "      <td>2.0</td>\n",
       "      <td>0.0</td>\n",
       "    </tr>\n",
       "    <tr>\n",
       "      <th>34</th>\n",
       "      <td>Chine - RAS de Macao</td>\n",
       "      <td>3.0</td>\n",
       "      <td>2.0</td>\n",
       "    </tr>\n",
       "    <tr>\n",
       "      <th>35</th>\n",
       "      <td>Malte</td>\n",
       "      <td>3.0</td>\n",
       "      <td>4.0</td>\n",
       "    </tr>\n",
       "    <tr>\n",
       "      <th>36</th>\n",
       "      <td>Mauritanie</td>\n",
       "      <td>2.0</td>\n",
       "      <td>0.0</td>\n",
       "    </tr>\n",
       "    <tr>\n",
       "      <th>37</th>\n",
       "      <td>Mongolie</td>\n",
       "      <td>2.0</td>\n",
       "      <td>4.0</td>\n",
       "    </tr>\n",
       "    <tr>\n",
       "      <th>38</th>\n",
       "      <td>Namibie</td>\n",
       "      <td>2.0</td>\n",
       "      <td>0.0</td>\n",
       "    </tr>\n",
       "    <tr>\n",
       "      <th>39</th>\n",
       "      <td>Nouvelle-Calédonie</td>\n",
       "      <td>2.0</td>\n",
       "      <td>4.0</td>\n",
       "    </tr>\n",
       "    <tr>\n",
       "      <th>40</th>\n",
       "      <td>Macédoine du Nord</td>\n",
       "      <td>2.0</td>\n",
       "      <td>4.0</td>\n",
       "    </tr>\n",
       "    <tr>\n",
       "      <th>41</th>\n",
       "      <td>Vanuatu</td>\n",
       "      <td>2.0</td>\n",
       "      <td>0.0</td>\n",
       "    </tr>\n",
       "    <tr>\n",
       "      <th>43</th>\n",
       "      <td>Norvège</td>\n",
       "      <td>3.0</td>\n",
       "      <td>2.0</td>\n",
       "    </tr>\n",
       "    <tr>\n",
       "      <th>44</th>\n",
       "      <td>Papouasie-Nouvelle-Guinée</td>\n",
       "      <td>2.0</td>\n",
       "      <td>0.0</td>\n",
       "    </tr>\n",
       "    <tr>\n",
       "      <th>45</th>\n",
       "      <td>Timor-Leste</td>\n",
       "      <td>2.0</td>\n",
       "      <td>0.0</td>\n",
       "    </tr>\n",
       "    <tr>\n",
       "      <th>46</th>\n",
       "      <td>Saint-Kitts-et-Nevis</td>\n",
       "      <td>2.0</td>\n",
       "      <td>4.0</td>\n",
       "    </tr>\n",
       "    <tr>\n",
       "      <th>47</th>\n",
       "      <td>Sainte-Lucie</td>\n",
       "      <td>2.0</td>\n",
       "      <td>4.0</td>\n",
       "    </tr>\n",
       "    <tr>\n",
       "      <th>48</th>\n",
       "      <td>Saint-Vincent-et-les Grenadines</td>\n",
       "      <td>2.0</td>\n",
       "      <td>4.0</td>\n",
       "    </tr>\n",
       "    <tr>\n",
       "      <th>49</th>\n",
       "      <td>Sao Tomé-et-Principe</td>\n",
       "      <td>2.0</td>\n",
       "      <td>0.0</td>\n",
       "    </tr>\n",
       "    <tr>\n",
       "      <th>50</th>\n",
       "      <td>Seychelles</td>\n",
       "      <td>2.0</td>\n",
       "      <td>4.0</td>\n",
       "    </tr>\n",
       "    <tr>\n",
       "      <th>52</th>\n",
       "      <td>Suriname</td>\n",
       "      <td>2.0</td>\n",
       "      <td>4.0</td>\n",
       "    </tr>\n",
       "    <tr>\n",
       "      <th>53</th>\n",
       "      <td>Suède</td>\n",
       "      <td>3.0</td>\n",
       "      <td>2.0</td>\n",
       "    </tr>\n",
       "    <tr>\n",
       "      <th>54</th>\n",
       "      <td>Suisse</td>\n",
       "      <td>3.0</td>\n",
       "      <td>2.0</td>\n",
       "    </tr>\n",
       "    <tr>\n",
       "      <th>55</th>\n",
       "      <td>Oman</td>\n",
       "      <td>2.0</td>\n",
       "      <td>0.0</td>\n",
       "    </tr>\n",
       "    <tr>\n",
       "      <th>56</th>\n",
       "      <td>Émirats arabes unis</td>\n",
       "      <td>2.0</td>\n",
       "      <td>4.0</td>\n",
       "    </tr>\n",
       "    <tr>\n",
       "      <th>57</th>\n",
       "      <td>Royaume-Uni de Grande-Bretagne et d'Irlande du...</td>\n",
       "      <td>3.0</td>\n",
       "      <td>2.0</td>\n",
       "    </tr>\n",
       "    <tr>\n",
       "      <th>58</th>\n",
       "      <td>États-Unis d'Amérique</td>\n",
       "      <td>3.0</td>\n",
       "      <td>2.0</td>\n",
       "    </tr>\n",
       "    <tr>\n",
       "      <th>59</th>\n",
       "      <td>Samoa</td>\n",
       "      <td>2.0</td>\n",
       "      <td>4.0</td>\n",
       "    </tr>\n",
       "    <tr>\n",
       "      <th>60</th>\n",
       "      <td>Belgique</td>\n",
       "      <td>3.0</td>\n",
       "      <td>2.0</td>\n",
       "    </tr>\n",
       "    <tr>\n",
       "      <th>61</th>\n",
       "      <td>Luxembourg</td>\n",
       "      <td>3.0</td>\n",
       "      <td>2.0</td>\n",
       "    </tr>\n",
       "  </tbody>\n",
       "</table>\n",
       "</div>"
      ],
      "text/plain": [
       "                                                 pays  groupe_cah  Clusterkm\n",
       "0                                             Arménie         2.0        4.0\n",
       "1                                              Angola         2.0        0.0\n",
       "2                                  Antigua-et-Barbuda         2.0        4.0\n",
       "3                                           Australie         3.0        2.0\n",
       "4                                            Autriche         3.0        2.0\n",
       "5                                             Bahamas         2.0        4.0\n",
       "6                                            Botswana         2.0        0.0\n",
       "7                                        Îles Salomon         2.0        0.0\n",
       "8                                              Canada         3.0        2.0\n",
       "9                                          Cabo Verde         2.0        0.0\n",
       "10                                              Congo         2.0        0.0\n",
       "11                                               Cuba         2.0        4.0\n",
       "12                                              Bénin         2.0        0.0\n",
       "13                                           Danemark         3.0        2.0\n",
       "14                                          Dominique         2.0        4.0\n",
       "15                                           Finlande         3.0        2.0\n",
       "16                                Polynésie française         2.0        4.0\n",
       "17                                              Gabon         2.0        0.0\n",
       "18                                             Gambie         2.0        0.0\n",
       "19                                          Allemagne         3.0        2.0\n",
       "20                                              Ghana         2.0        0.0\n",
       "21                                           Kiribati         2.0        4.0\n",
       "22                                            Grenade         2.0        4.0\n",
       "23                                             Guinée         2.0        0.0\n",
       "24                                              Haïti         2.0        0.0\n",
       "25                           Chine - RAS de Hong-Kong         3.0        4.0\n",
       "26                                            Islande         3.0        2.0\n",
       "27                                            Irlande         3.0        2.0\n",
       "28                                             Israël         3.0        2.0\n",
       "30                                       Kirghizistan         2.0        0.0\n",
       "32                                             Koweït         2.0        4.0\n",
       "33                                            Lesotho         2.0        0.0\n",
       "34                               Chine - RAS de Macao         3.0        2.0\n",
       "35                                              Malte         3.0        4.0\n",
       "36                                         Mauritanie         2.0        0.0\n",
       "37                                           Mongolie         2.0        4.0\n",
       "38                                            Namibie         2.0        0.0\n",
       "39                                 Nouvelle-Calédonie         2.0        4.0\n",
       "40                                  Macédoine du Nord         2.0        4.0\n",
       "41                                            Vanuatu         2.0        0.0\n",
       "43                                            Norvège         3.0        2.0\n",
       "44                          Papouasie-Nouvelle-Guinée         2.0        0.0\n",
       "45                                        Timor-Leste         2.0        0.0\n",
       "46                               Saint-Kitts-et-Nevis         2.0        4.0\n",
       "47                                       Sainte-Lucie         2.0        4.0\n",
       "48                    Saint-Vincent-et-les Grenadines         2.0        4.0\n",
       "49                               Sao Tomé-et-Principe         2.0        0.0\n",
       "50                                         Seychelles         2.0        4.0\n",
       "52                                           Suriname         2.0        4.0\n",
       "53                                              Suède         3.0        2.0\n",
       "54                                             Suisse         3.0        2.0\n",
       "55                                               Oman         2.0        0.0\n",
       "56                                Émirats arabes unis         2.0        4.0\n",
       "57  Royaume-Uni de Grande-Bretagne et d'Irlande du...         3.0        2.0\n",
       "58                              États-Unis d'Amérique         3.0        2.0\n",
       "59                                              Samoa         2.0        4.0\n",
       "60                                           Belgique         3.0        2.0\n",
       "61                                         Luxembourg         3.0        2.0"
      ]
     },
     "execution_count": 112,
     "metadata": {},
     "output_type": "execute_result"
    }
   ],
   "source": [
    "df_select_pays_km_cah=df_compare_1.dropna()\n",
    "df_select_pays_km_cah\n",
    "\n"
   ]
  },
  {
   "cell_type": "markdown",
   "id": "c6b3b78b",
   "metadata": {},
   "source": [
    "Liste des pays et recommandations\n",
    "Dans un premier temps, on suggère donc de cibler les pays de l'UE, pour leur proximité et la facilité des échanges commerciaux : l'Allemagne,  les Pays-Bas, la Suède ,Luxembourg et l'Italie.\n",
    "\n",
    "Prudence avec le Royaume-Uni, puisqu'avec le Brexit, les échanges commerciaux avec l'UE sont actuellement compliqués. Pour autant, considérant les intérêts économiques mutuels, les récentes directives qui ont été prises pour favoriser ces échanges sont en notre faveur.\n",
    "\n",
    "Dans un second temps, on pourrait également cibler les pays comme Hong Kong, le Japon, , ainsi que le Koweït."
   ]
  },
  {
   "cell_type": "markdown",
   "id": "4cad79da",
   "metadata": {},
   "source": [
    "FAO - Poultry production - Marchés et commerce\n",
    "https://www.fao.org/poultry-production-products/aspects-socio-economiques/marches-et-commerce/fr/\n",
    "\n",
    "\"Le Brésil est le principal exportateur de viande de volaille, suivi par les États-Unis et les Pays-Bas. Les principaux pays importateurs sont la Chine, le Japon, le Mexique et le Royaume-Uni.\"\n",
    "\n",
    "\"Les pays les moins avancés sont de plus en plus dépendants des importations de viande de volaille. Le niveau de leurs importations est passé de 3 pour cent en 1961 à environ 30 pour cent en 2013.\""
   ]
  },
  {
   "cell_type": "markdown",
   "id": "25c634a3",
   "metadata": {},
   "source": [
    "FAO - Poultry production\n",
    "\n",
    "https://www.fao.org/poultry-production-products/production/fr/\n",
    "\n",
    "\"Les États-Unis d'Amérique sont le plus grand producteur de viande de volaille à l’échelle de la planète: ils produisent en effet 17 pour cent de la production mondiale. Viennent ensuite la Chine et le Brésil.\"\n",
    "\n",
    "\"Pour répondre à la demande croissante, la production de viande de volaille mondiale a bondi, passant de 9 à 132 millions de tonnes entre 1961 et 2019.\"\n",
    "\n",
    "\"En 2019, la viande de volaille représentait environ 39 pour cent de la production mondiale de viande.\"\n",
    "\n",
    "\"Dans les pays en développement, environ 80 pour cent des ménages ruraux élèvent des volailles.\""
   ]
  },
  {
   "cell_type": "markdown",
   "id": "00700678",
   "metadata": {},
   "source": [
    "# Tests statistiques\n",
    "## Nos groupes sont-ils réellement distincts?\n",
    "### Test d'adéquation de Kolmogorov-Smirnov :\n",
    "On peut tester l’adéquation de la 'Disponibilité alimentaire de prot (g/personne/jour)' à une loi normale à l’aide de Kolmogorov-Smirnov. Le test sera doublé par celui de Shapiro-Wilk."
   ]
  },
  {
   "cell_type": "code",
   "execution_count": 80,
   "id": "39b2ecd3",
   "metadata": {},
   "outputs": [],
   "source": [
    "import scipy.stats as st\n",
    "from scipy import stats\n",
    "from scipy.stats import ks_2samp"
   ]
  },
  {
   "cell_type": "markdown",
   "id": "8ddcc094",
   "metadata": {},
   "source": [
    "### Vérification des hypothèses"
   ]
  },
  {
   "cell_type": "markdown",
   "id": "ebe55293",
   "metadata": {},
   "source": [
    "**H0 = La variable suit donc  une loi normale .**\n",
    "\n",
    "**H1 = La variable ne suit pas une loi normale.**"
   ]
  },
  {
   "cell_type": "code",
   "execution_count": 81,
   "id": "d2b810ef",
   "metadata": {},
   "outputs": [
    {
     "data": {
      "text/html": [
       "<div>\n",
       "<style scoped>\n",
       "    .dataframe tbody tr th:only-of-type {\n",
       "        vertical-align: middle;\n",
       "    }\n",
       "\n",
       "    .dataframe tbody tr th {\n",
       "        vertical-align: top;\n",
       "    }\n",
       "\n",
       "    .dataframe thead th {\n",
       "        text-align: right;\n",
       "    }\n",
       "</style>\n",
       "<table border=\"1\" class=\"dataframe\">\n",
       "  <thead>\n",
       "    <tr style=\"text-align: right;\">\n",
       "      <th></th>\n",
       "      <th>pays</th>\n",
       "      <th>Évolution population (%)</th>\n",
       "      <th>dispo_calories</th>\n",
       "      <th>dispo_proteines</th>\n",
       "      <th>ratio_proteines_animales(%)</th>\n",
       "      <th>PIB_par_habitant</th>\n",
       "      <th>taux_suffisance(٪)</th>\n",
       "      <th>taux_dépendance_importations(٪)</th>\n",
       "      <th>groupe_cah</th>\n",
       "      <th>Clusterkm</th>\n",
       "    </tr>\n",
       "  </thead>\n",
       "  <tbody>\n",
       "    <tr>\n",
       "      <th>0</th>\n",
       "      <td>Arménie</td>\n",
       "      <td>2.35</td>\n",
       "      <td>1103030.0</td>\n",
       "      <td>34415.85</td>\n",
       "      <td>56.06</td>\n",
       "      <td>4622.733216</td>\n",
       "      <td>21.818182</td>\n",
       "      <td>78.181818</td>\n",
       "      <td>2</td>\n",
       "      <td>4</td>\n",
       "    </tr>\n",
       "  </tbody>\n",
       "</table>\n",
       "</div>"
      ],
      "text/plain": [
       "      pays  Évolution population (%)  dispo_calories  dispo_proteines  \\\n",
       "0  Arménie                      2.35       1103030.0         34415.85   \n",
       "\n",
       "   ratio_proteines_animales(%)  PIB_par_habitant  taux_suffisance(٪)  \\\n",
       "0                        56.06       4622.733216           21.818182   \n",
       "\n",
       "   taux_dépendance_importations(٪)  groupe_cah  Clusterkm  \n",
       "0                        78.181818           2          4  "
      ]
     },
     "execution_count": 81,
     "metadata": {},
     "output_type": "execute_result"
    }
   ],
   "source": [
    "df_groupes_cah.head(1)"
   ]
  },
  {
   "cell_type": "code",
   "execution_count": 82,
   "id": "c9104feb",
   "metadata": {},
   "outputs": [
    {
     "name": "stdout",
     "output_type": "stream",
     "text": [
      "Statistics=0.105, p=0.304\n",
      " Nous pouvons accepter H0 pour des niveaux de test de 5 %\n"
     ]
    }
   ],
   "source": [
    "#Kolmogorov Smirnov test\n",
    "stat, p= st.ks_2samp(df_groupes_cah['dispo_proteines'], \n",
    "            np.random.normal(df_groupes_cah['dispo_proteines'].mean(), \n",
    "                             df_groupes_cah['dispo_proteines'].std(ddof=0),\n",
    "                             df_groupes_cah['dispo_proteines'].count()))\n",
    "\n",
    "print('Statistics=%.3f, p=%.3f' % (stat, p))\n",
    "\n",
    "#Interprétation\n",
    "alpha = 0.05\n",
    "if p > alpha:\n",
    "    print(' Nous pouvons accepter H0 pour des niveaux de test de 5 %')\n",
    "else:\n",
    "    print('H0 est rejetée à un niveau de test de 5%')\n",
    "    "
   ]
  },
  {
   "cell_type": "markdown",
   "id": "afa9e00c",
   "metadata": {},
   "source": [
    "### Test d'adéquation de Shapiro-Wilk :\n",
    "\n",
    "*Recommandé pour tester la normalité dans le cas de petits échantillons."
   ]
  },
  {
   "cell_type": "code",
   "execution_count": 83,
   "id": "783fa535",
   "metadata": {},
   "outputs": [],
   "source": [
    "#creation of the df with only clusters 4 & 5\n",
    "c4c5 = df_groupes_cah[(df_groupes_cah['groupe_cah'] == 3) | (df_groupes_cah['groupe_cah'] == 5)]"
   ]
  },
  {
   "cell_type": "code",
   "execution_count": 84,
   "id": "025c44f5",
   "metadata": {},
   "outputs": [],
   "source": [
    "#conda install -c conda-forge pingouin\n",
    "#Pingouin is an open-source statistical package written in Python 3 and based mostly on Pandas and NumPy. "
   ]
  },
  {
   "cell_type": "code",
   "execution_count": 85,
   "id": "996efea3",
   "metadata": {},
   "outputs": [
    {
     "data": {
      "text/html": [
       "<div>\n",
       "<style scoped>\n",
       "    .dataframe tbody tr th:only-of-type {\n",
       "        vertical-align: middle;\n",
       "    }\n",
       "\n",
       "    .dataframe tbody tr th {\n",
       "        vertical-align: top;\n",
       "    }\n",
       "\n",
       "    .dataframe thead th {\n",
       "        text-align: right;\n",
       "    }\n",
       "</style>\n",
       "<table border=\"1\" class=\"dataframe\">\n",
       "  <thead>\n",
       "    <tr style=\"text-align: right;\">\n",
       "      <th></th>\n",
       "      <th>W</th>\n",
       "      <th>pval</th>\n",
       "      <th>normal</th>\n",
       "    </tr>\n",
       "  </thead>\n",
       "  <tbody>\n",
       "    <tr>\n",
       "      <th>Évolution population (%)</th>\n",
       "      <td>0.991761</td>\n",
       "      <td>9.165989e-01</td>\n",
       "      <td>True</td>\n",
       "    </tr>\n",
       "    <tr>\n",
       "      <th>dispo_calories</th>\n",
       "      <td>0.973411</td>\n",
       "      <td>1.203359e-01</td>\n",
       "      <td>True</td>\n",
       "    </tr>\n",
       "    <tr>\n",
       "      <th>dispo_proteines</th>\n",
       "      <td>0.969186</td>\n",
       "      <td>6.745765e-02</td>\n",
       "      <td>True</td>\n",
       "    </tr>\n",
       "    <tr>\n",
       "      <th>ratio_proteines_animales(%)</th>\n",
       "      <td>0.974942</td>\n",
       "      <td>1.482540e-01</td>\n",
       "      <td>True</td>\n",
       "    </tr>\n",
       "    <tr>\n",
       "      <th>PIB_par_habitant</th>\n",
       "      <td>0.756683</td>\n",
       "      <td>9.696263e-10</td>\n",
       "      <td>False</td>\n",
       "    </tr>\n",
       "    <tr>\n",
       "      <th>taux_suffisance(٪)</th>\n",
       "      <td>0.865643</td>\n",
       "      <td>1.255049e-06</td>\n",
       "      <td>False</td>\n",
       "    </tr>\n",
       "    <tr>\n",
       "      <th>taux_dépendance_importations(٪)</th>\n",
       "      <td>0.627375</td>\n",
       "      <td>2.066064e-12</td>\n",
       "      <td>False</td>\n",
       "    </tr>\n",
       "    <tr>\n",
       "      <th>Clusterkm</th>\n",
       "      <td>0.763252</td>\n",
       "      <td>1.398323e-09</td>\n",
       "      <td>False</td>\n",
       "    </tr>\n",
       "  </tbody>\n",
       "</table>\n",
       "</div>"
      ],
      "text/plain": [
       "                                        W          pval  normal\n",
       "Évolution population (%)         0.991761  9.165989e-01    True\n",
       "dispo_calories                   0.973411  1.203359e-01    True\n",
       "dispo_proteines                  0.969186  6.745765e-02    True\n",
       "ratio_proteines_animales(%)      0.974942  1.482540e-01    True\n",
       "PIB_par_habitant                 0.756683  9.696263e-10   False\n",
       "taux_suffisance(٪)               0.865643  1.255049e-06   False\n",
       "taux_dépendance_importations(٪)  0.627375  2.066064e-12   False\n",
       "Clusterkm                        0.763252  1.398323e-09   False"
      ]
     },
     "execution_count": 85,
     "metadata": {},
     "output_type": "execute_result"
    }
   ],
   "source": [
    "#normality of variables in c4c5\n",
    "import pingouin as pg\n",
    "pg.normality(c4c5, method='shapiro', alpha=0.05).drop('groupe_cah')\n",
    "\n"
   ]
  },
  {
   "cell_type": "code",
   "execution_count": 86,
   "id": "ca406fbc",
   "metadata": {},
   "outputs": [
    {
     "data": {
      "image/png": "[encoded data removed]",
      "text/plain": [
       "<Figure size 576x360 with 1 Axes>"
      ]
     },
     "metadata": {},
     "output_type": "display_data"
    }
   ],
   "source": [
    "#histogram\n",
    "sns.histplot(data=df_groupes_cah, x='dispo_proteines', kde=True, color='#4cb2ff')\n",
    "plt.show()"
   ]
  },
  {
   "cell_type": "markdown",
   "id": "5c89a632",
   "metadata": {},
   "source": [
    "#### Disponibilité alimentaire énergétique\n"
   ]
  },
  {
   "cell_type": "code",
   "execution_count": 87,
   "id": "9474ee8b",
   "metadata": {},
   "outputs": [
    {
     "data": {
      "image/png": "[encoded data removed]",
      "text/plain": [
       "<Figure size 576x360 with 1 Axes>"
      ]
     },
     "metadata": {},
     "output_type": "display_data"
    }
   ],
   "source": [
    "#histogram\n",
    "sns.histplot(data=df_groupes_cah, x='dispo_calories', kde=True, color='#4cb2ff')\n",
    "plt.show()"
   ]
  },
  {
   "cell_type": "markdown",
   "id": "6c8a67ad",
   "metadata": {},
   "source": [
    "#### Importation de viande de volaille\n"
   ]
  },
  {
   "cell_type": "code",
   "execution_count": 88,
   "id": "25000bae",
   "metadata": {},
   "outputs": [
    {
     "ename": "ValueError",
     "evalue": "Could not interpret value `Evolution population (%)` for parameter `x`",
     "output_type": "error",
     "traceback": [
      "\u001b[0;31m---------------------------------------------------------------------------\u001b[0m",
      "\u001b[0;31mValueError\u001b[0m                                Traceback (most recent call last)",
      "\u001b[0;32m<ipython-input-88-4fa19e22b2c5>\u001b[0m in \u001b[0;36m<module>\u001b[0;34m\u001b[0m\n\u001b[1;32m      1\u001b[0m \u001b[0;31m#histogram\u001b[0m\u001b[0;34m\u001b[0m\u001b[0;34m\u001b[0m\u001b[0;34m\u001b[0m\u001b[0m\n\u001b[0;32m----> 2\u001b[0;31m \u001b[0msns\u001b[0m\u001b[0;34m.\u001b[0m\u001b[0mhistplot\u001b[0m\u001b[0;34m(\u001b[0m\u001b[0mdata\u001b[0m\u001b[0;34m=\u001b[0m\u001b[0mdf_groupes_cah\u001b[0m\u001b[0;34m,\u001b[0m \u001b[0mx\u001b[0m\u001b[0;34m=\u001b[0m\u001b[0;34m'Evolution population (%)'\u001b[0m\u001b[0;34m,\u001b[0m \u001b[0mkde\u001b[0m\u001b[0;34m=\u001b[0m\u001b[0;32mTrue\u001b[0m\u001b[0;34m,\u001b[0m \u001b[0mcolor\u001b[0m\u001b[0;34m=\u001b[0m\u001b[0;34m'#4cb2ff'\u001b[0m\u001b[0;34m)\u001b[0m\u001b[0;34m\u001b[0m\u001b[0;34m\u001b[0m\u001b[0m\n\u001b[0m\u001b[1;32m      3\u001b[0m \u001b[0mplt\u001b[0m\u001b[0;34m.\u001b[0m\u001b[0mshow\u001b[0m\u001b[0;34m(\u001b[0m\u001b[0;34m)\u001b[0m\u001b[0;34m\u001b[0m\u001b[0;34m\u001b[0m\u001b[0m\n",
      "\u001b[0;32m~/opt/anaconda3/lib/python3.8/site-packages/seaborn/distributions.py\u001b[0m in \u001b[0;36mhistplot\u001b[0;34m(data, x, y, hue, weights, stat, bins, binwidth, binrange, discrete, cumulative, common_bins, common_norm, multiple, element, fill, shrink, kde, kde_kws, line_kws, thresh, pthresh, pmax, cbar, cbar_ax, cbar_kws, palette, hue_order, hue_norm, color, log_scale, legend, ax, **kwargs)\u001b[0m\n\u001b[1;32m   1389\u001b[0m ):\n\u001b[1;32m   1390\u001b[0m \u001b[0;34m\u001b[0m\u001b[0m\n\u001b[0;32m-> 1391\u001b[0;31m     p = _DistributionPlotter(\n\u001b[0m\u001b[1;32m   1392\u001b[0m         \u001b[0mdata\u001b[0m\u001b[0;34m=\u001b[0m\u001b[0mdata\u001b[0m\u001b[0;34m,\u001b[0m\u001b[0;34m\u001b[0m\u001b[0;34m\u001b[0m\u001b[0m\n\u001b[1;32m   1393\u001b[0m         \u001b[0mvariables\u001b[0m\u001b[0;34m=\u001b[0m\u001b[0m_DistributionPlotter\u001b[0m\u001b[0;34m.\u001b[0m\u001b[0mget_semantics\u001b[0m\u001b[0;34m(\u001b[0m\u001b[0mlocals\u001b[0m\u001b[0;34m(\u001b[0m\u001b[0;34m)\u001b[0m\u001b[0;34m)\u001b[0m\u001b[0;34m\u001b[0m\u001b[0;34m\u001b[0m\u001b[0m\n",
      "\u001b[0;32m~/opt/anaconda3/lib/python3.8/site-packages/seaborn/distributions.py\u001b[0m in \u001b[0;36m__init__\u001b[0;34m(self, data, variables)\u001b[0m\n\u001b[1;32m    107\u001b[0m     ):\n\u001b[1;32m    108\u001b[0m \u001b[0;34m\u001b[0m\u001b[0m\n\u001b[0;32m--> 109\u001b[0;31m         \u001b[0msuper\u001b[0m\u001b[0;34m(\u001b[0m\u001b[0;34m)\u001b[0m\u001b[0;34m.\u001b[0m\u001b[0m__init__\u001b[0m\u001b[0;34m(\u001b[0m\u001b[0mdata\u001b[0m\u001b[0;34m=\u001b[0m\u001b[0mdata\u001b[0m\u001b[0;34m,\u001b[0m \u001b[0mvariables\u001b[0m\u001b[0;34m=\u001b[0m\u001b[0mvariables\u001b[0m\u001b[0;34m)\u001b[0m\u001b[0;34m\u001b[0m\u001b[0;34m\u001b[0m\u001b[0m\n\u001b[0m\u001b[1;32m    110\u001b[0m \u001b[0;34m\u001b[0m\u001b[0m\n\u001b[1;32m    111\u001b[0m     \u001b[0;34m@\u001b[0m\u001b[0mproperty\u001b[0m\u001b[0;34m\u001b[0m\u001b[0;34m\u001b[0m\u001b[0m\n",
      "\u001b[0;32m~/opt/anaconda3/lib/python3.8/site-packages/seaborn/_core.py\u001b[0m in \u001b[0;36m__init__\u001b[0;34m(self, data, variables)\u001b[0m\n\u001b[1;32m    602\u001b[0m     \u001b[0;32mdef\u001b[0m \u001b[0m__init__\u001b[0m\u001b[0;34m(\u001b[0m\u001b[0mself\u001b[0m\u001b[0;34m,\u001b[0m \u001b[0mdata\u001b[0m\u001b[0;34m=\u001b[0m\u001b[0;32mNone\u001b[0m\u001b[0;34m,\u001b[0m \u001b[0mvariables\u001b[0m\u001b[0;34m=\u001b[0m\u001b[0;34m{\u001b[0m\u001b[0;34m}\u001b[0m\u001b[0;34m)\u001b[0m\u001b[0;34m:\u001b[0m\u001b[0;34m\u001b[0m\u001b[0;34m\u001b[0m\u001b[0m\n\u001b[1;32m    603\u001b[0m \u001b[0;34m\u001b[0m\u001b[0m\n\u001b[0;32m--> 604\u001b[0;31m         \u001b[0mself\u001b[0m\u001b[0;34m.\u001b[0m\u001b[0massign_variables\u001b[0m\u001b[0;34m(\u001b[0m\u001b[0mdata\u001b[0m\u001b[0;34m,\u001b[0m \u001b[0mvariables\u001b[0m\u001b[0;34m)\u001b[0m\u001b[0;34m\u001b[0m\u001b[0;34m\u001b[0m\u001b[0m\n\u001b[0m\u001b[1;32m    605\u001b[0m \u001b[0;34m\u001b[0m\u001b[0m\n\u001b[1;32m    606\u001b[0m         \u001b[0;32mfor\u001b[0m \u001b[0mvar\u001b[0m\u001b[0;34m,\u001b[0m \u001b[0mcls\u001b[0m \u001b[0;32min\u001b[0m \u001b[0mself\u001b[0m\u001b[0;34m.\u001b[0m\u001b[0m_semantic_mappings\u001b[0m\u001b[0;34m.\u001b[0m\u001b[0mitems\u001b[0m\u001b[0;34m(\u001b[0m\u001b[0;34m)\u001b[0m\u001b[0;34m:\u001b[0m\u001b[0;34m\u001b[0m\u001b[0;34m\u001b[0m\u001b[0m\n",
      "\u001b[0;32m~/opt/anaconda3/lib/python3.8/site-packages/seaborn/_core.py\u001b[0m in \u001b[0;36massign_variables\u001b[0;34m(self, data, variables)\u001b[0m\n\u001b[1;32m    665\u001b[0m         \u001b[0;32melse\u001b[0m\u001b[0;34m:\u001b[0m\u001b[0;34m\u001b[0m\u001b[0;34m\u001b[0m\u001b[0m\n\u001b[1;32m    666\u001b[0m             \u001b[0mself\u001b[0m\u001b[0;34m.\u001b[0m\u001b[0minput_format\u001b[0m \u001b[0;34m=\u001b[0m \u001b[0;34m\"long\"\u001b[0m\u001b[0;34m\u001b[0m\u001b[0;34m\u001b[0m\u001b[0m\n\u001b[0;32m--> 667\u001b[0;31m             plot_data, variables = self._assign_variables_longform(\n\u001b[0m\u001b[1;32m    668\u001b[0m                 \u001b[0mdata\u001b[0m\u001b[0;34m,\u001b[0m \u001b[0;34m**\u001b[0m\u001b[0mvariables\u001b[0m\u001b[0;34m,\u001b[0m\u001b[0;34m\u001b[0m\u001b[0;34m\u001b[0m\u001b[0m\n\u001b[1;32m    669\u001b[0m             )\n",
      "\u001b[0;32m~/opt/anaconda3/lib/python3.8/site-packages/seaborn/_core.py\u001b[0m in \u001b[0;36m_assign_variables_longform\u001b[0;34m(self, data, **kwargs)\u001b[0m\n\u001b[1;32m    900\u001b[0m \u001b[0;34m\u001b[0m\u001b[0m\n\u001b[1;32m    901\u001b[0m                 \u001b[0merr\u001b[0m \u001b[0;34m=\u001b[0m \u001b[0;34mf\"Could not interpret value `{val}` for parameter `{key}`\"\u001b[0m\u001b[0;34m\u001b[0m\u001b[0;34m\u001b[0m\u001b[0m\n\u001b[0;32m--> 902\u001b[0;31m                 \u001b[0;32mraise\u001b[0m \u001b[0mValueError\u001b[0m\u001b[0;34m(\u001b[0m\u001b[0merr\u001b[0m\u001b[0;34m)\u001b[0m\u001b[0;34m\u001b[0m\u001b[0;34m\u001b[0m\u001b[0m\n\u001b[0m\u001b[1;32m    903\u001b[0m \u001b[0;34m\u001b[0m\u001b[0m\n\u001b[1;32m    904\u001b[0m             \u001b[0;32melse\u001b[0m\u001b[0;34m:\u001b[0m\u001b[0;34m\u001b[0m\u001b[0;34m\u001b[0m\u001b[0m\n",
      "\u001b[0;31mValueError\u001b[0m: Could not interpret value `Evolution population (%)` for parameter `x`"
     ]
    }
   ],
   "source": [
    "#histogram\n",
    "sns.histplot(data=df_groupes_cah, x='Evolution population (%)', kde=True, color='#4cb2ff')\n",
    "plt.show()"
   ]
  },
  {
   "cell_type": "markdown",
   "id": "760d81e0",
   "metadata": {},
   "source": [
    "#### Pourcentage de protéine animale\n"
   ]
  },
  {
   "cell_type": "code",
   "execution_count": null,
   "id": "494d4214",
   "metadata": {},
   "outputs": [],
   "source": [
    "#histogram\n",
    "sns.histplot(data=df_groupes_cah, x='ratio_proteines_animales', kde=True, color='#4cb2ff')\n",
    "plt.show()"
   ]
  },
  {
   "cell_type": "markdown",
   "id": "d8882c1f",
   "metadata": {},
   "source": [
    "#### Produit Intérieur Brut\n"
   ]
  },
  {
   "cell_type": "code",
   "execution_count": null,
   "id": "d8bbf8f9",
   "metadata": {},
   "outputs": [],
   "source": [
    "#histogram\n",
    "sns.histplot(data=df_groupes_cah, x='PIB par habitant', kde=True, color='#4cb2ff')\n",
    "plt.show()"
   ]
  },
  {
   "cell_type": "markdown",
   "id": "ec88f1f7",
   "metadata": {},
   "source": [
    "#### Importation de viande de volaille\n"
   ]
  },
  {
   "cell_type": "code",
   "execution_count": null,
   "id": "08ef9338",
   "metadata": {},
   "outputs": [],
   "source": [
    "#histogram\n",
    "sns.histplot(data=df_groupes_cah, x='Production', kde=True, color='#4cb2ff')\n",
    "plt.show()\n"
   ]
  },
  {
   "cell_type": "code",
   "execution_count": null,
   "id": "ba359a8f",
   "metadata": {},
   "outputs": [],
   "source": [
    "#histogram\n",
    "sns.histplot(data=df_groupes_cah, x='taux_suffisance(٪)', kde=True, color='#4cb2ff')\n",
    "plt.show()"
   ]
  },
  {
   "cell_type": "markdown",
   "id": "fd37076b",
   "metadata": {},
   "source": [
    "### Test de comparaison de deux clusters dans le cas gaussien.\n",
    "\n"
   ]
  },
  {
   "cell_type": "markdown",
   "id": "f19ce4d7",
   "metadata": {},
   "source": [
    "#### La variable 'dispo_proteines' suit une loi normale et sera par conséquent choisie pour le test."
   ]
  },
  {
   "cell_type": "code",
   "execution_count": null,
   "id": "8c1ddc29",
   "metadata": {},
   "outputs": [],
   "source": [
    "#On teste tout d’abord l’égalité des variances à l’aide de la commande\n",
    "pg.homoscedasticity(c4c5, dv='dispo_proteines', \n",
    "                    group='groupe_cah', method='levene', \n",
    "                    alpha=0.05)"
   ]
  },
  {
   "cell_type": "code",
   "execution_count": null,
   "id": "e57c2ee2",
   "metadata": {},
   "outputs": [],
   "source": [
    "#On teste ensuite l’égalité des moyennes à l’aide de la commande\n",
    "pg.ttest(df_groupes_cah['dispo_proteines'][df_groupes_cah['groupe_cah'] == 3],\n",
    "         df_groupes_cah['dispo_proteines'][df_groupes_cah['groupe_cah'] == 5],\n",
    "         paired=False,\n",
    "        \n",
    "         confidence=0.95)"
   ]
  },
  {
   "cell_type": "markdown",
   "id": "44aaa5f0",
   "metadata": {},
   "source": [
    "### Conclusion"
   ]
  },
  {
   "cell_type": "code",
   "execution_count": null,
   "id": "9e261f1c",
   "metadata": {},
   "outputs": [],
   "source": [
    "α = 0.05\n",
    "\n",
    "if α > pg.ttest(df_groupes_cah['dispo_proteines'][df_groupes_cah['groupe_cah'] == 3],\n",
    "             df_groupes_cah['dispo_proteines'][df_groupes_cah['groupe_cah'] == 5]).iloc[0,3] : \n",
    "    \n",
    "    print(\"La p-value étant inférieure au risque α, on rejette donc H0, les moyennes des deux groupes sont différentes.\")\n",
    "else :\n",
    "    print(\"La p-value étant supérieur au risque α, H0 est donc vrai, les moyennes des deux groupes sont égales.\")"
   ]
  },
  {
   "cell_type": "code",
   "execution_count": null,
   "id": "415e4b51",
   "metadata": {},
   "outputs": [],
   "source": []
  }
 ],
 "metadata": {
  "kernelspec": {
   "display_name": "Python 3",
   "language": "python",
   "name": "python3"
  },
  "language_info": {
   "codemirror_mode": {
    "name": "ipython",
    "version": 3
   },
   "file_extension": ".py",
   "mimetype": "text/x-python",
   "name": "python",
   "nbconvert_exporter": "python",
   "pygments_lexer": "ipython3",
   "version": "3.8.2"
  },
  "widgets": {
   "application/vnd.jupyter.widget-state+json": {
    "state": {},
    "version_major": 2,
    "version_minor": 0
   }
  }
 },
 "nbformat": 4,
 "nbformat_minor": 5
}
